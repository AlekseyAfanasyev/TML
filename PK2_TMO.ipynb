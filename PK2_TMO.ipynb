{
 "cells": [
  {
   "cell_type": "markdown",
   "id": "fd277195-b387-406b-8163-3b2cac98b649",
   "metadata": {},
   "source": [
    "# Рубежный контроль №2"
   ]
  },
  {
   "cell_type": "markdown",
   "id": "4a456720-da39-4b43-a422-c377f3664a3b",
   "metadata": {},
   "source": [
    "## Афанасьев А.А. ИУ5-65Б Вариант 1"
   ]
  },
  {
   "cell_type": "code",
   "execution_count": 71,
   "id": "a12d036c-4319-42fc-8059-3b73e8687fb8",
   "metadata": {},
   "outputs": [],
   "source": [
    "import numpy as np\n",
    "import pandas as pd\n",
    "from typing import Dict, Tuple\n",
    "from scipy import stats\n",
    "from sklearn.datasets import load_iris\n",
    "from sklearn.model_selection import train_test_split\n",
    "from sklearn.neighbors import KNeighborsRegressor, KNeighborsClassifier\n",
    "from sklearn.metrics import accuracy_score, balanced_accuracy_score\n",
    "from sklearn.metrics import precision_score, recall_score, f1_score, classification_report\n",
    "from sklearn.metrics import confusion_matrix\n",
    "from sklearn.metrics import mean_absolute_error, mean_squared_error, mean_squared_log_error, median_absolute_error, r2_score \n",
    "from sklearn.metrics import roc_curve, roc_auc_score\n",
    "from sklearn.preprocessing import StandardScaler\n",
    "from sklearn.svm import SVC\n",
    "from sklearn.ensemble import GradientBoostingClassifier\n",
    "import seaborn as sns\n",
    "import matplotlib.pyplot as plt\n",
    "%matplotlib inline \n",
    "sns.set(style=\"ticks\")"
   ]
  },
  {
   "cell_type": "code",
   "execution_count": 22,
   "id": "44a4f3d4-7803-4fe2-b3f4-0717f4a27173",
   "metadata": {},
   "outputs": [],
   "source": [
    "iris = load_iris()"
   ]
  },
  {
   "cell_type": "code",
   "execution_count": 23,
   "id": "619d0cc8-c0b4-4170-97dd-f08da2bd804d",
   "metadata": {},
   "outputs": [
    {
     "data": {
      "text/plain": [
       "['sepal length (cm)',\n",
       " 'sepal width (cm)',\n",
       " 'petal length (cm)',\n",
       " 'petal width (cm)']"
      ]
     },
     "execution_count": 23,
     "metadata": {},
     "output_type": "execute_result"
    }
   ],
   "source": [
    "iris.feature_names"
   ]
  },
  {
   "cell_type": "code",
   "execution_count": 24,
   "id": "9bf50e67-1d3b-446a-806e-3333cb7fd63c",
   "metadata": {},
   "outputs": [
    {
     "data": {
      "text/plain": [
       "array(['setosa', 'versicolor', 'virginica'], dtype='<U10')"
      ]
     },
     "execution_count": 24,
     "metadata": {},
     "output_type": "execute_result"
    }
   ],
   "source": [
    "iris.target_names"
   ]
  },
  {
   "cell_type": "code",
   "execution_count": 25,
   "id": "b15b992f-382b-4755-b74b-52b023f639b3",
   "metadata": {},
   "outputs": [],
   "source": [
    "# Сформируем DataFrame\n",
    "iris_df = pd.DataFrame(data= np.c_[iris['data'], iris['target']],\n",
    "                     columns= iris['feature_names'] + ['iris species'])"
   ]
  },
  {
   "cell_type": "code",
   "execution_count": 26,
   "id": "32614615-ed2c-42d9-bbf7-e84fa2558472",
   "metadata": {},
   "outputs": [
    {
     "data": {
      "text/plain": [
       "sepal length (cm)    float64\n",
       "sepal width (cm)     float64\n",
       "petal length (cm)    float64\n",
       "petal width (cm)     float64\n",
       "iris species         float64\n",
       "dtype: object"
      ]
     },
     "execution_count": 26,
     "metadata": {},
     "output_type": "execute_result"
    }
   ],
   "source": [
    "# типы колонок\n",
    "iris_df.dtypes"
   ]
  },
  {
   "cell_type": "code",
   "execution_count": 27,
   "id": "0f342ef8-7d08-40f7-a939-66713d054b88",
   "metadata": {},
   "outputs": [
    {
     "data": {
      "text/html": [
       "<div>\n",
       "<style scoped>\n",
       "    .dataframe tbody tr th:only-of-type {\n",
       "        vertical-align: middle;\n",
       "    }\n",
       "\n",
       "    .dataframe tbody tr th {\n",
       "        vertical-align: top;\n",
       "    }\n",
       "\n",
       "    .dataframe thead th {\n",
       "        text-align: right;\n",
       "    }\n",
       "</style>\n",
       "<table border=\"1\" class=\"dataframe\">\n",
       "  <thead>\n",
       "    <tr style=\"text-align: right;\">\n",
       "      <th></th>\n",
       "      <th>sepal length (cm)</th>\n",
       "      <th>sepal width (cm)</th>\n",
       "      <th>petal length (cm)</th>\n",
       "      <th>petal width (cm)</th>\n",
       "      <th>iris species</th>\n",
       "    </tr>\n",
       "  </thead>\n",
       "  <tbody>\n",
       "    <tr>\n",
       "      <th>0</th>\n",
       "      <td>5.1</td>\n",
       "      <td>3.5</td>\n",
       "      <td>1.4</td>\n",
       "      <td>0.2</td>\n",
       "      <td>0.0</td>\n",
       "    </tr>\n",
       "    <tr>\n",
       "      <th>1</th>\n",
       "      <td>4.9</td>\n",
       "      <td>3.0</td>\n",
       "      <td>1.4</td>\n",
       "      <td>0.2</td>\n",
       "      <td>0.0</td>\n",
       "    </tr>\n",
       "    <tr>\n",
       "      <th>2</th>\n",
       "      <td>4.7</td>\n",
       "      <td>3.2</td>\n",
       "      <td>1.3</td>\n",
       "      <td>0.2</td>\n",
       "      <td>0.0</td>\n",
       "    </tr>\n",
       "    <tr>\n",
       "      <th>3</th>\n",
       "      <td>4.6</td>\n",
       "      <td>3.1</td>\n",
       "      <td>1.5</td>\n",
       "      <td>0.2</td>\n",
       "      <td>0.0</td>\n",
       "    </tr>\n",
       "    <tr>\n",
       "      <th>4</th>\n",
       "      <td>5.0</td>\n",
       "      <td>3.6</td>\n",
       "      <td>1.4</td>\n",
       "      <td>0.2</td>\n",
       "      <td>0.0</td>\n",
       "    </tr>\n",
       "  </tbody>\n",
       "</table>\n",
       "</div>"
      ],
      "text/plain": [
       "   sepal length (cm)  sepal width (cm)  petal length (cm)  petal width (cm)  \\\n",
       "0                5.1               3.5                1.4               0.2   \n",
       "1                4.9               3.0                1.4               0.2   \n",
       "2                4.7               3.2                1.3               0.2   \n",
       "3                4.6               3.1                1.5               0.2   \n",
       "4                5.0               3.6                1.4               0.2   \n",
       "\n",
       "   iris species  \n",
       "0           0.0  \n",
       "1           0.0  \n",
       "2           0.0  \n",
       "3           0.0  \n",
       "4           0.0  "
      ]
     },
     "execution_count": 27,
     "metadata": {},
     "output_type": "execute_result"
    }
   ],
   "source": [
    "iris_df.head()"
   ]
  },
  {
   "cell_type": "code",
   "execution_count": 28,
   "id": "30f1325f-b44e-41da-b9d0-eddd3b07e0ce",
   "metadata": {},
   "outputs": [
    {
     "name": "stdout",
     "output_type": "stream",
     "text": [
      "Количество отсутствующих значений в датасете Iris:\n"
     ]
    },
    {
     "data": {
      "text/plain": [
       "sepal length (cm)    0\n",
       "sepal width (cm)     0\n",
       "petal length (cm)    0\n",
       "petal width (cm)     0\n",
       "iris species         0\n",
       "dtype: int64"
      ]
     },
     "execution_count": 28,
     "metadata": {},
     "output_type": "execute_result"
    }
   ],
   "source": [
    "print(\"Количество отсутствующих значений в датасете Iris:\")\n",
    "iris_df.isnull().sum()"
   ]
  },
  {
   "cell_type": "code",
   "execution_count": 29,
   "id": "60041a8b-bb9f-4ecf-a557-19a8ae344fbe",
   "metadata": {},
   "outputs": [
    {
     "data": {
      "text/plain": [
       "array([0., 1., 2.])"
      ]
     },
     "execution_count": 29,
     "metadata": {},
     "output_type": "execute_result"
    }
   ],
   "source": [
    "iris_df['iris species'].unique()"
   ]
  },
  {
   "cell_type": "code",
   "execution_count": 30,
   "id": "b634e0c5-a788-4d25-9ed4-b4a2043e9c0c",
   "metadata": {},
   "outputs": [],
   "source": [
    "iris_df['iris species'] = iris_df['iris species'].astype(int)"
   ]
  },
  {
   "cell_type": "code",
   "execution_count": 31,
   "id": "005f8595-3ddf-49b8-bd03-b27dfe403f62",
   "metadata": {},
   "outputs": [
    {
     "data": {
      "text/plain": [
       "sepal length (cm)    float64\n",
       "sepal width (cm)     float64\n",
       "petal length (cm)    float64\n",
       "petal width (cm)     float64\n",
       "iris species           int32\n",
       "dtype: object"
      ]
     },
     "execution_count": 31,
     "metadata": {},
     "output_type": "execute_result"
    }
   ],
   "source": [
    "# типы колонок\n",
    "iris_df.dtypes"
   ]
  },
  {
   "cell_type": "markdown",
   "id": "c2987b29-4b23-4434-b042-c325fef0bbe7",
   "metadata": {},
   "source": [
    "## Корреляционная матрица"
   ]
  },
  {
   "cell_type": "code",
   "execution_count": 32,
   "id": "1405cc1c-d44e-4538-b038-fe778aef49ee",
   "metadata": {},
   "outputs": [
    {
     "data": {
      "text/plain": [
       "<Axes: >"
      ]
     },
     "execution_count": 32,
     "metadata": {},
     "output_type": "execute_result"
    },
    {
     "data": {
      "image/png": "[encoded data removed]",
      "text/plain": [
       "<Figure size 640x480 with 2 Axes>"
      ]
     },
     "metadata": {},
     "output_type": "display_data"
    }
   ],
   "source": [
    "sns.heatmap(iris_df.corr(), annot=True, fmt='.3f')"
   ]
  },
  {
   "cell_type": "markdown",
   "id": "8b36bb56-604a-4529-8d55-8a155838f430",
   "metadata": {},
   "source": [
    "#### На основании корреляционной матрицы можно сделать следующие выводы:\n",
    "- Целевой признак сильно коррелирует длиной чашелистика (0.78). Этот признак следует оставить в модели.\n",
    "- Целевой признак не коррелирует с шириной чашелистика (-0.43). Этот признак следует убрать из модели, так как скорее всего он только ухудшит её качество.\n",
    "- Длина лепестка очень сильно коррелирует с шириной лепестка (0.96). Следовательно, в модели можно оставить только один из этих признаков. Лучше оставить ширину лепестка, так как он лучше коррелирует с целевым признаком (0.96) и при этом меньше коррелирует с длиной чашелистика (0.82 против 0.87 у длины лепестка)."
   ]
  },
  {
   "cell_type": "markdown",
   "id": "65713702-f5fb-4b06-afbc-2b7c4b9a6c17",
   "metadata": {},
   "source": [
    "## Разделение данных на обучающую и тестовую выборки"
   ]
  },
  {
   "cell_type": "code",
   "execution_count": 37,
   "id": "a1d13ea9-8b5a-4312-a147-559a35c6f926",
   "metadata": {},
   "outputs": [],
   "source": [
    "X = iris_df.drop(columns=['iris species', 'sepal width (cm)', 'petal length (cm)'])  # Признаки\n",
    "y = iris_df['iris species']  # Целевая переменная\n",
    "\n",
    "# Разделение данных на обучающую и тестовую выборки\n",
    "iris_X_train, iris_X_test, iris_y_train, iris_y_test = train_test_split(X, y, test_size=0.2, random_state=1)"
   ]
  },
  {
   "cell_type": "code",
   "execution_count": 38,
   "id": "66175908-d9d8-471e-80b1-abb3c9872bef",
   "metadata": {},
   "outputs": [
    {
     "data": {
      "text/plain": [
       "((120, 2), (120,))"
      ]
     },
     "execution_count": 38,
     "metadata": {},
     "output_type": "execute_result"
    }
   ],
   "source": [
    "iris_X_train.shape, iris_y_train.shape"
   ]
  },
  {
   "cell_type": "code",
   "execution_count": 39,
   "id": "94e32044-386f-46a7-b3de-ceccff66dd1f",
   "metadata": {},
   "outputs": [
    {
     "data": {
      "text/plain": [
       "((30, 2), (30,))"
      ]
     },
     "execution_count": 39,
     "metadata": {},
     "output_type": "execute_result"
    }
   ],
   "source": [
    "iris_X_test.shape, iris_y_test.shape"
   ]
  },
  {
   "cell_type": "markdown",
   "id": "0de0ccbd-ff43-4df2-a68e-9f88d3dc41ff",
   "metadata": {},
   "source": [
    "## Пропорции классов "
   ]
  },
  {
   "cell_type": "code",
   "execution_count": 48,
   "id": "d90cc9d2-db4f-4a82-892a-9738555c5972",
   "metadata": {},
   "outputs": [],
   "source": [
    "def class_proportions(array: np.ndarray) -> Dict[int, Tuple[int, float]]:\n",
    "    \"\"\"\n",
    "    Вычисляет пропорции классов\n",
    "    array - массив, содержащий метки классов\n",
    "    \"\"\"\n",
    "    # Получение меток классов и количества меток каждого класса \n",
    "    labels, counts = np.unique(array, return_counts=True)\n",
    "    # Превращаем количество меток в процент их встречаемости\n",
    "    # делим количество меток каждого класса на общее количество меток\n",
    "    counts_perc = counts/array.size\n",
    "    # Теперь sum(counts_perc)==1.0\n",
    "    # Создаем результирующий словарь,\n",
    "    # ключом словаря явлется метка класса, \n",
    "    # а значением словаря процент встречаемости метки\n",
    "    res = dict()\n",
    "    for label, count2 in zip(labels, zip(counts, counts_perc)):\n",
    "        res[label] = count2\n",
    "    return res\n",
    "\n",
    "def print_class_proportions(array: np.ndarray):\n",
    "    \"\"\"\n",
    "    Вывод пропорций классов\n",
    "    \"\"\"\n",
    "    proportions = class_proportions(array)\n",
    "    if len(proportions)>0:\n",
    "        print('Метка \\t Количество \\t Процент встречаемости')\n",
    "    for i in proportions:\n",
    "        val, val_perc = proportions[i]\n",
    "        val_perc_100 = round(val_perc * 100, 2)\n",
    "        print('{} \\t {} \\t \\t {}%'.format(i, val, val_perc_100))"
   ]
  },
  {
   "cell_type": "code",
   "execution_count": 49,
   "id": "586c58e7-8273-4dd5-a39b-5fcc10420ae5",
   "metadata": {},
   "outputs": [
    {
     "name": "stdout",
     "output_type": "stream",
     "text": [
      "Метка \t Количество \t Процент встречаемости\n",
      "0 \t 50 \t \t 33.33%\n",
      "1 \t 50 \t \t 33.33%\n",
      "2 \t 50 \t \t 33.33%\n"
     ]
    }
   ],
   "source": [
    "print_class_proportions(iris_df['iris species'])"
   ]
  },
  {
   "cell_type": "markdown",
   "id": "4b9dfffa-adad-420f-aed8-07349f3ad740",
   "metadata": {},
   "source": [
    "## Метод опорных векторов"
   ]
  },
  {
   "cell_type": "code",
   "execution_count": 69,
   "id": "9194e68c-47fd-4ed0-97e2-ccb75c4863a4",
   "metadata": {},
   "outputs": [
    {
     "name": "stdout",
     "output_type": "stream",
     "text": [
      "Accuracy: 0.9666666666666667\n",
      "Precision: 0.9523809523809524\n",
      "Confusion Matrix:\n",
      "[[11  0  0]\n",
      " [ 0 12  1]\n",
      " [ 0  0  6]]\n"
     ]
    }
   ],
   "source": [
    "# Нормализация признаков\n",
    "scaler = StandardScaler()\n",
    "iris_X_train = scaler.fit_transform(iris_X_train)\n",
    "iris_X_test = scaler.transform(iris_X_test)\n",
    "\n",
    "# Обучение модели SVM\n",
    "svm_model = SVC()  \n",
    "svm_model.fit(iris_X_train, iris_y_train)\n",
    "\n",
    "# Предсказания на тестовых данных\n",
    "iris_y_pred = svm_model.predict(iris_X_test)\n",
    "\n",
    "# Оценка производительности модели\n",
    "accuracy = accuracy_score(iris_y_test, iris_y_pred)\n",
    "# Параметры TP, TN, FP, FN считаются отдельно для каждого класса \n",
    "# и берется среднее значение, дисбаланс классов не учитывается.\n",
    "precision = precision_score(iris_y_test, iris_y_pred, average='macro')\n",
    "conf_matrix = confusion_matrix(iris_y_test, iris_y_pred)\n",
    "print(f'Accuracy: {accuracy}')\n",
    "print(f'Precision: {precision}')\n",
    "print('Confusion Matrix:')\n",
    "print(conf_matrix)"
   ]
  },
  {
   "cell_type": "markdown",
   "id": "25e4da71-c25c-4186-b200-65f15cfa973c",
   "metadata": {},
   "source": [
    "## Градиентный бустинг"
   ]
  },
  {
   "cell_type": "code",
   "execution_count": 72,
   "id": "6f2304e5-20fe-4f8f-a04b-485f46373ae9",
   "metadata": {},
   "outputs": [
    {
     "name": "stdout",
     "output_type": "stream",
     "text": [
      "Accuracy: 0.9333333333333333\n",
      "Precision: 0.9166666666666666\n",
      "Confusion Matrix:\n",
      "[[11  0  0]\n",
      " [ 0 11  2]\n",
      " [ 0  0  6]]\n"
     ]
    }
   ],
   "source": [
    "# Нормализация признаков\n",
    "scaler = StandardScaler()\n",
    "iris_X_train = scaler.fit_transform(iris_X_train)\n",
    "iris_X_test = scaler.transform(iris_X_test)\n",
    "\n",
    "# Обучение модели градиентного бустинга\n",
    "gbc_model = GradientBoostingClassifier()\n",
    "gbc_model.fit(iris_X_train, iris_y_train)\n",
    "\n",
    "# Предсказания на тестовых данных\n",
    "iris_y_pred = gbc_model.predict(iris_X_test)\n",
    "\n",
    "# Оценка производительности модели\n",
    "accuracy = accuracy_score(iris_y_test, iris_y_pred)\n",
    "precision = precision_score(iris_y_test, iris_y_pred, average='macro')\n",
    "conf_matrix = confusion_matrix(iris_y_test, iris_y_pred)\n",
    "\n",
    "print(f'Accuracy: {accuracy}')\n",
    "print(f'Precision: {precision}')\n",
    "print('Confusion Matrix:')\n",
    "print(conf_matrix)"
   ]
  },
  {
   "cell_type": "markdown",
   "id": "10baafc9-4f89-41e6-92d2-61e5d9996631",
   "metadata": {},
   "source": [
    "## Градиентный бустинг с подобранными гиперпараметрами "
   ]
  },
  {
   "cell_type": "code",
   "execution_count": 76,
   "id": "3f0f5900-1449-49af-a3d0-c30abeab44c7",
   "metadata": {},
   "outputs": [
    {
     "name": "stdout",
     "output_type": "stream",
     "text": [
      "Best Parameters: {'learning_rate': 0.01, 'max_depth': 3, 'n_estimators': 50}\n",
      "Accuracy: 0.9666666666666667\n",
      "Precision: 0.9523809523809524\n",
      "Confusion Matrix:\n",
      "[[11  0  0]\n",
      " [ 0 12  1]\n",
      " [ 0  0  6]]\n"
     ]
    }
   ],
   "source": [
    "from sklearn.model_selection import GridSearchCV\n",
    "# Нормализация признаков\n",
    "scaler = StandardScaler()\n",
    "iris_X_train = scaler.fit_transform(iris_X_train)\n",
    "iris_X_test = scaler.transform(iris_X_test)\n",
    "\n",
    "# Параметры для подбора гиперпараметров\n",
    "param_grid = {\n",
    "    'n_estimators': [50, 100, 200],\n",
    "    'max_depth': [3, 4, 5],\n",
    "    'learning_rate': [0.01, 0.1, 0.2]\n",
    "}\n",
    "\n",
    "# Обучение модели градиентного бустинга с подбором гиперпараметров\n",
    "gbc_model = GradientBoostingClassifier()\n",
    "grid_search = GridSearchCV(estimator=gbc_model, param_grid=param_grid, cv=5, n_jobs=-1, scoring='accuracy')\n",
    "grid_search.fit(iris_X_train, iris_y_train)\n",
    "\n",
    "# Наилучшие гиперпараметры\n",
    "best_params = grid_search.best_params_\n",
    "print(f'Best Parameters: {best_params}')\n",
    "\n",
    "# Предсказания на тестовых данных с лучшей моделью\n",
    "iris_y_pred = grid_search.best_estimator_.predict(iris_X_test)\n",
    "\n",
    "# Оценка производительности модели\n",
    "accuracy = accuracy_score(iris_y_test, iris_y_pred)\n",
    "precision = precision_score(iris_y_test, iris_y_pred, average='macro')\n",
    "conf_matrix = confusion_matrix(iris_y_test, iris_y_pred)\n",
    "\n",
    "\n",
    "print(f'Accuracy: {accuracy}')\n",
    "print(f'Precision: {precision}')\n",
    "print('Confusion Matrix:')\n",
    "print(conf_matrix)\n"
   ]
  },
  {
   "cell_type": "markdown",
   "id": "087e2d24-b58a-4a4e-a0a5-435e129356ef",
   "metadata": {},
   "source": [
    "## Вывод:"
   ]
  },
  {
   "cell_type": "markdown",
   "id": "56b0fc3b-638a-420d-8da7-ee6d5a7e9112",
   "metadata": {},
   "source": [
    "Метод опорных векторов показал немного лучшее качество, по сравнению с градиентным бустингом, но при подборе оптимальных гиперпараметров качество обеих моделей сравнялось."
   ]
  }
 ],
 "metadata": {
  "kernelspec": {
   "display_name": "Python 3 (ipykernel)",
   "language": "python",
   "name": "python3"
  },
  "language_info": {
   "codemirror_mode": {
    "name": "ipython",
    "version": 3
   },
   "file_extension": ".py",
   "mimetype": "text/x-python",
   "name": "python",
   "nbconvert_exporter": "python",
   "pygments_lexer": "ipython3",
   "version": "3.11.0"
  }
 },
 "nbformat": 4,
 "nbformat_minor": 5
}
