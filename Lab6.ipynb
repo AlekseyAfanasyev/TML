{
 "cells": [
  {
   "cell_type": "markdown",
   "id": "d28c09d5-dabe-44fb-abf8-4c8651f4e1b1",
   "metadata": {},
   "source": [
    "# Ансамбли моделей машинного обучения. Часть 2."
   ]
  },
  {
   "cell_type": "code",
   "execution_count": 1,
   "id": "b12bdebc-ecff-40b3-ab12-94995705efd5",
   "metadata": {},
   "outputs": [],
   "source": [
    "import numpy as np\n",
    "import pandas as pd\n",
    "from typing import Dict, Tuple\n",
    "from scipy import stats\n",
    "from scipy.optimize import fmin_tnc\n",
    "from IPython.display import Image\n",
    "from sklearn.model_selection import train_test_split\n",
    "from sklearn.neighbors import KNeighborsRegressor, KNeighborsClassifier\n",
    "from sklearn.metrics import accuracy_score, balanced_accuracy_score\n",
    "from sklearn.metrics import precision_score, recall_score, f1_score, classification_report\n",
    "from sklearn.metrics import confusion_matrix\n",
    "from sklearn.metrics import mean_absolute_error, mean_squared_error, mean_squared_log_error, median_absolute_error, r2_score, root_mean_squared_error \n",
    "from sklearn.metrics import roc_curve, roc_auc_score\n",
    "from sklearn.linear_model import LinearRegression\n",
    "from sklearn.linear_model import SGDRegressor\n",
    "from sklearn.linear_model import SGDClassifier\n",
    "from sklearn import linear_model\n",
    "from sklearn.ensemble import BaggingRegressor\n",
    "from sklearn.ensemble import RandomForestRegressor\n",
    "from sklearn.ensemble import ExtraTreesRegressor\n",
    "from sklearn.ensemble import AdaBoostRegressor\n",
    "from sklearn.ensemble import GradientBoostingRegressor\n",
    "from sklearn.svm import SVR\n",
    "from sklearn.tree import DecisionTreeRegressor\n",
    "import xgboost as xgb\n",
    "import seaborn as sns\n",
    "import matplotlib.pyplot as plt\n",
    "%matplotlib inline \n",
    "sns.set(style=\"ticks\")"
   ]
  },
  {
   "cell_type": "code",
   "execution_count": 2,
   "id": "16523a32-36d6-421e-8dcf-87a94f1a6491",
   "metadata": {},
   "outputs": [],
   "source": [
    "mpg = pd.read_csv('C:\\\\MGTU\\\\6 semestr\\\\TMO\\\\auto-mpg.csv')"
   ]
  },
  {
   "cell_type": "code",
   "execution_count": 3,
   "id": "1191a209-bfa9-4cba-b7c2-0809ada33fbf",
   "metadata": {},
   "outputs": [
    {
     "data": {
      "text/html": [
       "<div>\n",
       "<style scoped>\n",
       "    .dataframe tbody tr th:only-of-type {\n",
       "        vertical-align: middle;\n",
       "    }\n",
       "\n",
       "    .dataframe tbody tr th {\n",
       "        vertical-align: top;\n",
       "    }\n",
       "\n",
       "    .dataframe thead th {\n",
       "        text-align: right;\n",
       "    }\n",
       "</style>\n",
       "<table border=\"1\" class=\"dataframe\">\n",
       "  <thead>\n",
       "    <tr style=\"text-align: right;\">\n",
       "      <th></th>\n",
       "      <th>mpg</th>\n",
       "      <th>cylinders</th>\n",
       "      <th>displacement</th>\n",
       "      <th>horsepower</th>\n",
       "      <th>weight</th>\n",
       "      <th>acceleration</th>\n",
       "      <th>model year</th>\n",
       "      <th>origin</th>\n",
       "      <th>car name</th>\n",
       "    </tr>\n",
       "  </thead>\n",
       "  <tbody>\n",
       "    <tr>\n",
       "      <th>0</th>\n",
       "      <td>18.0</td>\n",
       "      <td>8</td>\n",
       "      <td>307.0</td>\n",
       "      <td>130</td>\n",
       "      <td>3504</td>\n",
       "      <td>12.0</td>\n",
       "      <td>70</td>\n",
       "      <td>1</td>\n",
       "      <td>chevrolet chevelle malibu</td>\n",
       "    </tr>\n",
       "    <tr>\n",
       "      <th>1</th>\n",
       "      <td>15.0</td>\n",
       "      <td>8</td>\n",
       "      <td>350.0</td>\n",
       "      <td>165</td>\n",
       "      <td>3693</td>\n",
       "      <td>11.5</td>\n",
       "      <td>70</td>\n",
       "      <td>1</td>\n",
       "      <td>buick skylark 320</td>\n",
       "    </tr>\n",
       "    <tr>\n",
       "      <th>2</th>\n",
       "      <td>18.0</td>\n",
       "      <td>8</td>\n",
       "      <td>318.0</td>\n",
       "      <td>150</td>\n",
       "      <td>3436</td>\n",
       "      <td>11.0</td>\n",
       "      <td>70</td>\n",
       "      <td>1</td>\n",
       "      <td>plymouth satellite</td>\n",
       "    </tr>\n",
       "    <tr>\n",
       "      <th>3</th>\n",
       "      <td>16.0</td>\n",
       "      <td>8</td>\n",
       "      <td>304.0</td>\n",
       "      <td>150</td>\n",
       "      <td>3433</td>\n",
       "      <td>12.0</td>\n",
       "      <td>70</td>\n",
       "      <td>1</td>\n",
       "      <td>amc rebel sst</td>\n",
       "    </tr>\n",
       "    <tr>\n",
       "      <th>4</th>\n",
       "      <td>17.0</td>\n",
       "      <td>8</td>\n",
       "      <td>302.0</td>\n",
       "      <td>140</td>\n",
       "      <td>3449</td>\n",
       "      <td>10.5</td>\n",
       "      <td>70</td>\n",
       "      <td>1</td>\n",
       "      <td>ford torino</td>\n",
       "    </tr>\n",
       "  </tbody>\n",
       "</table>\n",
       "</div>"
      ],
      "text/plain": [
       "    mpg  cylinders  displacement horsepower  weight  acceleration  model year  \\\n",
       "0  18.0          8         307.0        130    3504          12.0          70   \n",
       "1  15.0          8         350.0        165    3693          11.5          70   \n",
       "2  18.0          8         318.0        150    3436          11.0          70   \n",
       "3  16.0          8         304.0        150    3433          12.0          70   \n",
       "4  17.0          8         302.0        140    3449          10.5          70   \n",
       "\n",
       "   origin                   car name  \n",
       "0       1  chevrolet chevelle malibu  \n",
       "1       1          buick skylark 320  \n",
       "2       1         plymouth satellite  \n",
       "3       1              amc rebel sst  \n",
       "4       1                ford torino  "
      ]
     },
     "execution_count": 3,
     "metadata": {},
     "output_type": "execute_result"
    }
   ],
   "source": [
    "mpg.head()"
   ]
  },
  {
   "cell_type": "code",
   "execution_count": 4,
   "id": "aba60059-1fbb-40eb-9bcf-a2b76557eb75",
   "metadata": {},
   "outputs": [
    {
     "data": {
      "text/plain": [
       "mpg             float64\n",
       "cylinders         int64\n",
       "displacement    float64\n",
       "horsepower       object\n",
       "weight            int64\n",
       "acceleration    float64\n",
       "model year        int64\n",
       "origin            int64\n",
       "car name         object\n",
       "dtype: object"
      ]
     },
     "execution_count": 4,
     "metadata": {},
     "output_type": "execute_result"
    }
   ],
   "source": [
    "mpg.dtypes"
   ]
  },
  {
   "cell_type": "code",
   "execution_count": 5,
   "id": "69878acf-7f82-4362-9926-456cce6b021d",
   "metadata": {},
   "outputs": [],
   "source": [
    "mpg = mpg[mpg['horsepower'] != '?']\n",
    "mpg['horsepower'] = mpg['horsepower'].astype(float)"
   ]
  },
  {
   "cell_type": "code",
   "execution_count": 6,
   "id": "b0e3a772-44a8-47e7-ab1f-7babfcf19ed6",
   "metadata": {},
   "outputs": [
    {
     "data": {
      "text/plain": [
       "mpg             float64\n",
       "cylinders         int64\n",
       "displacement    float64\n",
       "horsepower      float64\n",
       "weight            int64\n",
       "acceleration    float64\n",
       "model year        int64\n",
       "origin            int64\n",
       "car name         object\n",
       "dtype: object"
      ]
     },
     "execution_count": 6,
     "metadata": {},
     "output_type": "execute_result"
    }
   ],
   "source": [
    "mpg.dtypes"
   ]
  },
  {
   "cell_type": "code",
   "execution_count": 7,
   "id": "bd4da7d8-a9be-4309-abde-71a6d01b6064",
   "metadata": {},
   "outputs": [],
   "source": [
    "mpg = mpg.drop(columns=['car name'])"
   ]
  },
  {
   "cell_type": "code",
   "execution_count": 8,
   "id": "7235d5b1-74cf-4855-a3c9-ffed62f48172",
   "metadata": {},
   "outputs": [],
   "source": [
    "X = mpg.drop(columns=['mpg'])  # Признаки\n",
    "y = mpg['mpg']  # Целевая переменная\n",
    "\n",
    "# Разделение данных на обучающую и тестовую выборки\n",
    "mpg_X_train, mpg_X_test, mpg_y_train, mpg_y_test = train_test_split(X, y, test_size=0.2, random_state=1)"
   ]
  },
  {
   "cell_type": "markdown",
   "id": "ff4f1cc9-adaf-4ea5-a996-af4644d07a3d",
   "metadata": {},
   "source": [
    "### Стекинг"
   ]
  },
  {
   "cell_type": "code",
   "execution_count": 9,
   "id": "698b1690-19b2-47f7-8dbb-b3eec0efff0c",
   "metadata": {},
   "outputs": [],
   "source": [
    "from sklearn.preprocessing import PolynomialFeatures\n",
    "poly = PolynomialFeatures(degree=2)  # Задаем степень полинома\n",
    "X_train_poly = poly.fit_transform(mpg_X_train)\n",
    "X_test_poly = poly.transform(mpg_X_test)\n",
    "\n",
    "# Создание и обучение модели линейной регрессии\n",
    "model = LinearRegression()\n",
    "model.fit(X_train_poly, mpg_y_train)\n",
    "\n",
    "# Предсказание на тестовой выборке\n",
    "y_pred = model.predict(X_test_poly)"
   ]
  },
  {
   "cell_type": "code",
   "execution_count": 10,
   "id": "c80e06fa-4d76-4303-b102-ca8299e690bb",
   "metadata": {},
   "outputs": [
    {
     "data": {
      "text/plain": [
       "3.1367700997320496"
      ]
     },
     "execution_count": 10,
     "metadata": {},
     "output_type": "execute_result"
    }
   ],
   "source": [
    "root_mean_squared_error(mpg_y_test, y_pred)"
   ]
  },
  {
   "cell_type": "code",
   "execution_count": 11,
   "id": "cb1a84da-4a01-419f-87f2-b03d5c9da51e",
   "metadata": {},
   "outputs": [],
   "source": [
    "# Качество отдельных моделей\n",
    "def val_mae(model):\n",
    "    model.fit(mpg_X_train, mpg_y_train)\n",
    "    y_pred = model.predict(mpg_X_test)\n",
    "    result = root_mean_squared_error(mpg_y_test, y_pred)\n",
    "    print(model)\n",
    "    print('RMSE={}'.format(result))"
   ]
  },
  {
   "cell_type": "code",
   "execution_count": 12,
   "id": "f439942f-0c42-463f-b7f2-092256726f38",
   "metadata": {},
   "outputs": [
    {
     "name": "stdout",
     "output_type": "stream",
     "text": [
      "LinearRegression()\n",
      "RMSE=3.4667210313792913\n",
      "==========================\n",
      "\n",
      "DecisionTreeRegressor()\n",
      "RMSE=3.431352097233665\n",
      "==========================\n",
      "\n",
      "BaggingRegressor(n_estimators=1000)\n",
      "RMSE=3.14769333969485\n",
      "==========================\n",
      "\n"
     ]
    }
   ],
   "source": [
    "# Точность на отдельных моделях\n",
    "for model in [\n",
    "    LinearRegression(),\n",
    "    DecisionTreeRegressor(),\n",
    "    BaggingRegressor(n_estimators=1000)\n",
    "    \n",
    "]:\n",
    "    val_mae(model)\n",
    "    print('==========================')\n",
    "    print()"
   ]
  },
  {
   "cell_type": "code",
   "execution_count": 13,
   "id": "756bc135-0e8c-4c4f-abf4-9fb1ac7fb77b",
   "metadata": {},
   "outputs": [],
   "source": [
    "from heamy.estimator import Regressor, Classifier\n",
    "from heamy.pipeline import ModelsPipeline\n",
    "from heamy.dataset import Dataset\n",
    "# Используем библиотеку heamy\n",
    "# набор данных\n",
    "dataset = Dataset(mpg_X_train, mpg_y_train, mpg_X_test)\n",
    "dataset_poly = Dataset(X_train_poly, mpg_y_train, X_test_poly)\n",
    "\n",
    "# модели первого уровня\n",
    "model_tree = Regressor(dataset=dataset, estimator=DecisionTreeRegressor, name='tree')\n",
    "model_lr = Regressor(dataset=dataset, estimator=LinearRegression, parameters={},name='lr')\n",
    "model_bg = Regressor(dataset=dataset, estimator=BaggingRegressor, parameters={'n_estimators': 1000},name='bg')\n",
    "model_pol = Regressor(dataset=dataset_poly, estimator=LinearRegression, parameters={},name='pol')"
   ]
  },
  {
   "cell_type": "code",
   "execution_count": 14,
   "id": "fc340a6a-ea82-415d-823a-343e9ba4cdf0",
   "metadata": {},
   "outputs": [
    {
     "name": "stdout",
     "output_type": "stream",
     "text": [
      "Metric: root_mean_squared_error\n",
      "Folds accuracy: [3.994079321735586, 1.705992063507044, 3.498820228195117, 2.76731395396818, 2.712828060377412, 3.4841399494608725, 3.25228287528604, 2.2873289517257005, 2.3492210300648586, 3.1155478177581872]\n",
      "Mean accuracy: 2.9167554252079\n",
      "Standard Deviation: 0.6497375249314522\n",
      "Variance: 0.4221588513040495\n"
     ]
    }
   ],
   "source": [
    "# Эксперимент 1\n",
    "# Первый уровень - две модели: дерево и линейная регрессия\n",
    "# Второй уровень: линейная регрессия\n",
    "\n",
    "pipeline = ModelsPipeline(model_tree, model_lr)\n",
    "stack_ds = pipeline.stack(k=10, seed=1)\n",
    "# модель второго уровня\n",
    "stacker = Regressor(dataset=stack_ds, estimator=LinearRegression)\n",
    "results = stacker.validate(k=10,scorer=root_mean_squared_error)"
   ]
  },
  {
   "cell_type": "code",
   "execution_count": 15,
   "id": "6200212f-b580-4ad3-9b31-1dea88af4184",
   "metadata": {},
   "outputs": [
    {
     "name": "stdout",
     "output_type": "stream",
     "text": [
      "Metric: root_mean_squared_error\n",
      "Folds accuracy: [3.700301507985531, 2.029868376274678, 3.6541466172007935, 2.8320698004884535, 2.158460472860975, 3.1404222029694076, 3.727705771997121, 3.023950631104092, 3.023323849139253, 3.589306699161434]\n",
      "Mean accuracy: 3.0879555929181737\n",
      "Standard Deviation: 0.584481559730816\n",
      "Variance: 0.3416186936653674\n"
     ]
    }
   ],
   "source": [
    "# Эксперимент 2\n",
    "# Первый уровень - две модели: дерево и линейная регрессия\n",
    "# Второй уровень: бэггинг\n",
    "\n",
    "stacker = Regressor(dataset=stack_ds, estimator=BaggingRegressor)\n",
    "results = stacker.validate(k=10,scorer=root_mean_squared_error)"
   ]
  },
  {
   "cell_type": "code",
   "execution_count": 16,
   "id": "2f1544ac-797b-4e62-a472-6af6affa3f77",
   "metadata": {},
   "outputs": [
    {
     "name": "stdout",
     "output_type": "stream",
     "text": [
      "Metric: root_mean_squared_error\n",
      "Folds accuracy: [3.6403189140413206, 1.6909385439581688, 3.1210478530807224, 2.473065494641954, 2.3501128326441725, 2.8243233216427135, 2.9219933081916283, 1.9200580654841277, 2.0337059543181066, 2.8611198803670104]\n",
      "Mean accuracy: 2.5836684168369923\n",
      "Standard Deviation: 0.5710718005216499\n",
      "Variance: 0.326123001351039\n"
     ]
    }
   ],
   "source": [
    "# Эксперимент 3\n",
    "# Первый уровень - три модели: дерево, линейная регрессия и бэггинг\n",
    "# Второй уровень: линейная регрессия\n",
    "pipeline = ModelsPipeline(model_tree, model_lr, model_bg)\n",
    "stack_ds3 = pipeline.stack(k=10, seed=1)\n",
    "# модель второго уровня\n",
    "stacker = Regressor(dataset=stack_ds3, estimator=LinearRegression)\n",
    "results = stacker.validate(k=10,scorer=root_mean_squared_error)"
   ]
  },
  {
   "cell_type": "code",
   "execution_count": 17,
   "id": "3c1f43ab-4722-4bc9-876b-068ba9dc889a",
   "metadata": {},
   "outputs": [
    {
     "name": "stdout",
     "output_type": "stream",
     "text": [
      "Metric: root_mean_squared_error\n",
      "Folds accuracy: [4.190184587222859, 2.025479109988547, 3.2168151951891795, 2.8040776759753334, 2.3644606559527235, 3.5579316209498533, 3.1367653361693395, 2.7487569037892436, 2.487028282392332, 3.3771962985159267]\n",
      "Mean accuracy: 2.9908695666145335\n",
      "Standard Deviation: 0.6044198778372512\n",
      "Variance: 0.36532338872479764\n"
     ]
    }
   ],
   "source": [
    "# Эксперимент 4\n",
    "# Первый уровень - три модели: дерево, линейная регрессия и бэггинг\n",
    "# Второй уровень: бэггинг\n",
    "# Результат хуже чем в эксперименте 3\n",
    "stacker = Regressor(dataset=stack_ds3, estimator=BaggingRegressor)\n",
    "results = stacker.validate(k=10,scorer=root_mean_squared_error)"
   ]
  },
  {
   "cell_type": "code",
   "execution_count": 18,
   "id": "b554a003-7425-4636-9bbe-eb6886be6425",
   "metadata": {},
   "outputs": [
    {
     "name": "stdout",
     "output_type": "stream",
     "text": [
      "Metric: root_mean_squared_error\n",
      "Folds accuracy: [3.693460890209922, 1.7362629840497992, 2.925914053622691, 2.4064809567337697, 2.1615832387448415, 2.7713155319395057, 3.0275702509290308, 1.8464204482106956, 1.9708442676541493, 2.8133636162907356]\n",
      "Mean accuracy: 2.5353216238385143\n",
      "Standard Deviation: 0.587975570483654\n",
      "Variance: 0.34571527148557835\n"
     ]
    }
   ],
   "source": [
    "# Эксперимент 5\n",
    "# Первый уровень - три модели: дерево, полиномиальная регрессия и бэггинг\n",
    "# Второй уровень: линейная регрессия\n",
    "pipeline = ModelsPipeline(model_tree, model_pol, model_bg)\n",
    "stack_ds3 = pipeline.stack(k=10, seed=1)\n",
    "# модель второго уровня\n",
    "stacker = Regressor(dataset=stack_ds3, estimator=LinearRegression)\n",
    "results = stacker.validate(k=10,scorer=root_mean_squared_error)"
   ]
  },
  {
   "cell_type": "code",
   "execution_count": 19,
   "id": "9107ec35-ee83-461e-bc38-2417e894d592",
   "metadata": {},
   "outputs": [
    {
     "name": "stdout",
     "output_type": "stream",
     "text": [
      "Metric: root_mean_squared_error\n",
      "Folds accuracy: [3.6782230739738058, 1.7198164352717917, 2.9236976087077613, 2.3923579485934496, 2.1831396493077877, 2.77189449053814, 3.0225977428745616, 1.8552063113789952, 1.9744286618132019, 2.809894555135343]\n",
      "Mean accuracy: 2.533125647759484\n",
      "Standard Deviation: 0.5841646737497893\n",
      "Variance: 0.3412483660571978\n"
     ]
    }
   ],
   "source": [
    "# Эксперимент 6\n",
    "# Первый уровень - 4 модели: дерево, линейная регрессия, полиномиальная регрессия и бэггинг\n",
    "# Второй уровень: линейная регрессия\n",
    "pipeline = ModelsPipeline(model_tree, model_lr, model_bg, model_pol)\n",
    "stack_ds3 = pipeline.stack(k=10, seed=1)\n",
    "# модель второго уровня\n",
    "stacker = Regressor(dataset=stack_ds3, estimator=LinearRegression)\n",
    "results = stacker.validate(k=10,scorer=root_mean_squared_error)"
   ]
  },
  {
   "cell_type": "code",
   "execution_count": 20,
   "id": "6189cff7-885a-4480-9abb-c73cb1082f27",
   "metadata": {},
   "outputs": [
    {
     "name": "stdout",
     "output_type": "stream",
     "text": [
      "Metric: root_mean_squared_error\n",
      "Folds accuracy: [3.6784309511228805, 1.685230022434641, 2.922802920212812, 2.390807263842764, 2.1671003109396936, 2.7375956335473703, 3.014130519807417, 1.839176122515726, 1.9743037453991856, 2.810312877055171]\n",
      "Mean accuracy: 2.521989036687766\n",
      "Standard Deviation: 0.5898595357207732\n",
      "Variance: 0.3479342718807261\n"
     ]
    }
   ],
   "source": [
    "# Эксперимент 7\n",
    "# Первый уровень - три модели: линейная регрессия, полиномиальная регрессия и бэггинг\n",
    "# Второй уровень: линейная регрессия\n",
    "pipeline = ModelsPipeline(model_lr, model_pol, model_bg)\n",
    "stack_ds3 = pipeline.stack(k=10, seed=1)\n",
    "# модель второго уровня\n",
    "stacker = Regressor(dataset=stack_ds3, estimator=LinearRegression)\n",
    "results = stacker.validate(k=10,scorer=root_mean_squared_error)"
   ]
  },
  {
   "cell_type": "code",
   "execution_count": 21,
   "id": "d2bbc2f3-2d34-4991-b588-23ac0b8e0f6e",
   "metadata": {},
   "outputs": [
    {
     "name": "stdout",
     "output_type": "stream",
     "text": [
      "Metric: root_mean_squared_error\n",
      "Folds accuracy: [3.6929213456681556, 1.702684938698718, 2.925725511703319, 2.405297970060379, 2.150195841123143, 2.7447476431147777, 3.0199722261563258, 1.8250286520144705, 1.9686135646169518, 2.81285834277228]\n",
      "Mean accuracy: 2.524804603592852\n",
      "Standard Deviation: 0.5942477873268704\n",
      "Variance: 0.3531304327428814\n"
     ]
    }
   ],
   "source": [
    "# Эксперимент 8\n",
    "# Первый уровень - 2 модели: полиномиальная регрессия и бэггинг\n",
    "# Второй уровень: линейная регрессия\n",
    "pipeline = ModelsPipeline(model_pol, model_bg)\n",
    "stack_ds3 = pipeline.stack(k=10, seed=1)\n",
    "# модель второго уровня\n",
    "stacker = Regressor(dataset=stack_ds3, estimator=LinearRegression)\n",
    "results = stacker.validate(k=10,scorer=root_mean_squared_error)"
   ]
  },
  {
   "cell_type": "code",
   "execution_count": 22,
   "id": "508e3ab1-26ff-47f6-904c-646fde903142",
   "metadata": {},
   "outputs": [],
   "source": [
    "def vis_models_quality(array_metric, array_labels, str_header, figsize=(5, 5)):\n",
    "    fig, ax1 = plt.subplots(figsize=figsize)\n",
    "    pos = np.arange(len(array_metric))\n",
    "    rects = ax1.barh(pos, array_metric,\n",
    "                     align='center',\n",
    "                     height=0.5, \n",
    "                     tick_label=array_labels)\n",
    "    ax1.set_title(str_header)\n",
    "    for a,b in zip(pos, array_metric):\n",
    "        plt.text(0.2, a-0.1, str(round(b,3)), color='white')\n",
    "    plt.show()"
   ]
  },
  {
   "cell_type": "code",
   "execution_count": 35,
   "id": "b98e6909-b12d-43e4-bb9e-3cc75f5554ac",
   "metadata": {},
   "outputs": [],
   "source": [
    "# Результаты\n",
    "array_labels = ['TREE+LR=>LR', 'TREE+LR=>BG', 'TREE+LR+BG=>LR', 'TREE+LR+BG=>BG', 'TREE+PR+BG=>LR', 'TREE+LR+PR+BG=>LR','LR+PR+BG=>LR', 'BG+PR=>LR']\n",
    "array_mae = [2.943373023221235, 3.13874388562688, 2.578048722056443, 2.95848390445565, 2.5310358229314796, 2.53583835576526, 2.517015391925021, 2.5134377028831354]"
   ]
  },
  {
   "cell_type": "code",
   "execution_count": 24,
   "id": "cc00db9f-867a-4972-9b26-311273d7b1e2",
   "metadata": {},
   "outputs": [
    {
     "data": {
      "image/png": "[encoded data removed]",
      "text/plain": [
       "<Figure size 500x500 with 1 Axes>"
      ]
     },
     "metadata": {},
     "output_type": "display_data"
    }
   ],
   "source": [
    "vis_models_quality(array_mae, array_labels, 'RMSE для моделей стекинга')"
   ]
  },
  {
   "cell_type": "markdown",
   "id": "a70066ae-5a93-457f-ace0-8a4ea53a7627",
   "metadata": {},
   "source": [
    "### Многослойный персептрон"
   ]
  },
  {
   "cell_type": "code",
   "execution_count": 25,
   "id": "54a9ee41-39ca-48fb-a6ff-521ef813dddb",
   "metadata": {},
   "outputs": [],
   "source": [
    "from sklearn.neural_network import  MLPRegressor"
   ]
  },
  {
   "cell_type": "code",
   "execution_count": 26,
   "id": "b9d0b4c5-d871-4090-ab12-ef3ba2d97b4d",
   "metadata": {},
   "outputs": [
    {
     "name": "stderr",
     "output_type": "stream",
     "text": [
      "C:\\Python311\\Lib\\site-packages\\sklearn\\neural_network\\_multilayer_perceptron.py:691: ConvergenceWarning: Stochastic Optimizer: Maximum iterations (200) reached and the optimization hasn't converged yet.\n",
      "  warnings.warn(\n"
     ]
    },
    {
     "data": {
      "text/html": [
       "<style>#sk-container-id-1 {\n",
       "  /* Definition of color scheme common for light and dark mode */\n",
       "  --sklearn-color-text: black;\n",
       "  --sklearn-color-line: gray;\n",
       "  /* Definition of color scheme for unfitted estimators */\n",
       "  --sklearn-color-unfitted-level-0: #fff5e6;\n",
       "  --sklearn-color-unfitted-level-1: #f6e4d2;\n",
       "  --sklearn-color-unfitted-level-2: #ffe0b3;\n",
       "  --sklearn-color-unfitted-level-3: chocolate;\n",
       "  /* Definition of color scheme for fitted estimators */\n",
       "  --sklearn-color-fitted-level-0: #f0f8ff;\n",
       "  --sklearn-color-fitted-level-1: #d4ebff;\n",
       "  --sklearn-color-fitted-level-2: #b3dbfd;\n",
       "  --sklearn-color-fitted-level-3: cornflowerblue;\n",
       "\n",
       "  /* Specific color for light theme */\n",
       "  --sklearn-color-text-on-default-background: var(--sg-text-color, var(--theme-code-foreground, var(--jp-content-font-color1, black)));\n",
       "  --sklearn-color-background: var(--sg-background-color, var(--theme-background, var(--jp-layout-color0, white)));\n",
       "  --sklearn-color-border-box: var(--sg-text-color, var(--theme-code-foreground, var(--jp-content-font-color1, black)));\n",
       "  --sklearn-color-icon: #696969;\n",
       "\n",
       "  @media (prefers-color-scheme: dark) {\n",
       "    /* Redefinition of color scheme for dark theme */\n",
       "    --sklearn-color-text-on-default-background: var(--sg-text-color, var(--theme-code-foreground, var(--jp-content-font-color1, white)));\n",
       "    --sklearn-color-background: var(--sg-background-color, var(--theme-background, var(--jp-layout-color0, #111)));\n",
       "    --sklearn-color-border-box: var(--sg-text-color, var(--theme-code-foreground, var(--jp-content-font-color1, white)));\n",
       "    --sklearn-color-icon: #878787;\n",
       "  }\n",
       "}\n",
       "\n",
       "#sk-container-id-1 {\n",
       "  color: var(--sklearn-color-text);\n",
       "}\n",
       "\n",
       "#sk-container-id-1 pre {\n",
       "  padding: 0;\n",
       "}\n",
       "\n",
       "#sk-container-id-1 input.sk-hidden--visually {\n",
       "  border: 0;\n",
       "  clip: rect(1px 1px 1px 1px);\n",
       "  clip: rect(1px, 1px, 1px, 1px);\n",
       "  height: 1px;\n",
       "  margin: -1px;\n",
       "  overflow: hidden;\n",
       "  padding: 0;\n",
       "  position: absolute;\n",
       "  width: 1px;\n",
       "}\n",
       "\n",
       "#sk-container-id-1 div.sk-dashed-wrapped {\n",
       "  border: 1px dashed var(--sklearn-color-line);\n",
       "  margin: 0 0.4em 0.5em 0.4em;\n",
       "  box-sizing: border-box;\n",
       "  padding-bottom: 0.4em;\n",
       "  background-color: var(--sklearn-color-background);\n",
       "}\n",
       "\n",
       "#sk-container-id-1 div.sk-container {\n",
       "  /* jupyter's `normalize.less` sets `[hidden] { display: none; }`\n",
       "     but bootstrap.min.css set `[hidden] { display: none !important; }`\n",
       "     so we also need the `!important` here to be able to override the\n",
       "     default hidden behavior on the sphinx rendered scikit-learn.org.\n",
       "     See: https://github.com/scikit-learn/scikit-learn/issues/21755 */\n",
       "  display: inline-block !important;\n",
       "  position: relative;\n",
       "}\n",
       "\n",
       "#sk-container-id-1 div.sk-text-repr-fallback {\n",
       "  display: none;\n",
       "}\n",
       "\n",
       "div.sk-parallel-item,\n",
       "div.sk-serial,\n",
       "div.sk-item {\n",
       "  /* draw centered vertical line to link estimators */\n",
       "  background-image: linear-gradient(var(--sklearn-color-text-on-default-background), var(--sklearn-color-text-on-default-background));\n",
       "  background-size: 2px 100%;\n",
       "  background-repeat: no-repeat;\n",
       "  background-position: center center;\n",
       "}\n",
       "\n",
       "/* Parallel-specific style estimator block */\n",
       "\n",
       "#sk-container-id-1 div.sk-parallel-item::after {\n",
       "  content: \"\";\n",
       "  width: 100%;\n",
       "  border-bottom: 2px solid var(--sklearn-color-text-on-default-background);\n",
       "  flex-grow: 1;\n",
       "}\n",
       "\n",
       "#sk-container-id-1 div.sk-parallel {\n",
       "  display: flex;\n",
       "  align-items: stretch;\n",
       "  justify-content: center;\n",
       "  background-color: var(--sklearn-color-background);\n",
       "  position: relative;\n",
       "}\n",
       "\n",
       "#sk-container-id-1 div.sk-parallel-item {\n",
       "  display: flex;\n",
       "  flex-direction: column;\n",
       "}\n",
       "\n",
       "#sk-container-id-1 div.sk-parallel-item:first-child::after {\n",
       "  align-self: flex-end;\n",
       "  width: 50%;\n",
       "}\n",
       "\n",
       "#sk-container-id-1 div.sk-parallel-item:last-child::after {\n",
       "  align-self: flex-start;\n",
       "  width: 50%;\n",
       "}\n",
       "\n",
       "#sk-container-id-1 div.sk-parallel-item:only-child::after {\n",
       "  width: 0;\n",
       "}\n",
       "\n",
       "/* Serial-specific style estimator block */\n",
       "\n",
       "#sk-container-id-1 div.sk-serial {\n",
       "  display: flex;\n",
       "  flex-direction: column;\n",
       "  align-items: center;\n",
       "  background-color: var(--sklearn-color-background);\n",
       "  padding-right: 1em;\n",
       "  padding-left: 1em;\n",
       "}\n",
       "\n",
       "\n",
       "/* Toggleable style: style used for estimator/Pipeline/ColumnTransformer box that is\n",
       "clickable and can be expanded/collapsed.\n",
       "- Pipeline and ColumnTransformer use this feature and define the default style\n",
       "- Estimators will overwrite some part of the style using the `sk-estimator` class\n",
       "*/\n",
       "\n",
       "/* Pipeline and ColumnTransformer style (default) */\n",
       "\n",
       "#sk-container-id-1 div.sk-toggleable {\n",
       "  /* Default theme specific background. It is overwritten whether we have a\n",
       "  specific estimator or a Pipeline/ColumnTransformer */\n",
       "  background-color: var(--sklearn-color-background);\n",
       "}\n",
       "\n",
       "/* Toggleable label */\n",
       "#sk-container-id-1 label.sk-toggleable__label {\n",
       "  cursor: pointer;\n",
       "  display: block;\n",
       "  width: 100%;\n",
       "  margin-bottom: 0;\n",
       "  padding: 0.5em;\n",
       "  box-sizing: border-box;\n",
       "  text-align: center;\n",
       "}\n",
       "\n",
       "#sk-container-id-1 label.sk-toggleable__label-arrow:before {\n",
       "  /* Arrow on the left of the label */\n",
       "  content: \"▸\";\n",
       "  float: left;\n",
       "  margin-right: 0.25em;\n",
       "  color: var(--sklearn-color-icon);\n",
       "}\n",
       "\n",
       "#sk-container-id-1 label.sk-toggleable__label-arrow:hover:before {\n",
       "  color: var(--sklearn-color-text);\n",
       "}\n",
       "\n",
       "/* Toggleable content - dropdown */\n",
       "\n",
       "#sk-container-id-1 div.sk-toggleable__content {\n",
       "  max-height: 0;\n",
       "  max-width: 0;\n",
       "  overflow: hidden;\n",
       "  text-align: left;\n",
       "  /* unfitted */\n",
       "  background-color: var(--sklearn-color-unfitted-level-0);\n",
       "}\n",
       "\n",
       "#sk-container-id-1 div.sk-toggleable__content.fitted {\n",
       "  /* fitted */\n",
       "  background-color: var(--sklearn-color-fitted-level-0);\n",
       "}\n",
       "\n",
       "#sk-container-id-1 div.sk-toggleable__content pre {\n",
       "  margin: 0.2em;\n",
       "  border-radius: 0.25em;\n",
       "  color: var(--sklearn-color-text);\n",
       "  /* unfitted */\n",
       "  background-color: var(--sklearn-color-unfitted-level-0);\n",
       "}\n",
       "\n",
       "#sk-container-id-1 div.sk-toggleable__content.fitted pre {\n",
       "  /* unfitted */\n",
       "  background-color: var(--sklearn-color-fitted-level-0);\n",
       "}\n",
       "\n",
       "#sk-container-id-1 input.sk-toggleable__control:checked~div.sk-toggleable__content {\n",
       "  /* Expand drop-down */\n",
       "  max-height: 200px;\n",
       "  max-width: 100%;\n",
       "  overflow: auto;\n",
       "}\n",
       "\n",
       "#sk-container-id-1 input.sk-toggleable__control:checked~label.sk-toggleable__label-arrow:before {\n",
       "  content: \"▾\";\n",
       "}\n",
       "\n",
       "/* Pipeline/ColumnTransformer-specific style */\n",
       "\n",
       "#sk-container-id-1 div.sk-label input.sk-toggleable__control:checked~label.sk-toggleable__label {\n",
       "  color: var(--sklearn-color-text);\n",
       "  background-color: var(--sklearn-color-unfitted-level-2);\n",
       "}\n",
       "\n",
       "#sk-container-id-1 div.sk-label.fitted input.sk-toggleable__control:checked~label.sk-toggleable__label {\n",
       "  background-color: var(--sklearn-color-fitted-level-2);\n",
       "}\n",
       "\n",
       "/* Estimator-specific style */\n",
       "\n",
       "/* Colorize estimator box */\n",
       "#sk-container-id-1 div.sk-estimator input.sk-toggleable__control:checked~label.sk-toggleable__label {\n",
       "  /* unfitted */\n",
       "  background-color: var(--sklearn-color-unfitted-level-2);\n",
       "}\n",
       "\n",
       "#sk-container-id-1 div.sk-estimator.fitted input.sk-toggleable__control:checked~label.sk-toggleable__label {\n",
       "  /* fitted */\n",
       "  background-color: var(--sklearn-color-fitted-level-2);\n",
       "}\n",
       "\n",
       "#sk-container-id-1 div.sk-label label.sk-toggleable__label,\n",
       "#sk-container-id-1 div.sk-label label {\n",
       "  /* The background is the default theme color */\n",
       "  color: var(--sklearn-color-text-on-default-background);\n",
       "}\n",
       "\n",
       "/* On hover, darken the color of the background */\n",
       "#sk-container-id-1 div.sk-label:hover label.sk-toggleable__label {\n",
       "  color: var(--sklearn-color-text);\n",
       "  background-color: var(--sklearn-color-unfitted-level-2);\n",
       "}\n",
       "\n",
       "/* Label box, darken color on hover, fitted */\n",
       "#sk-container-id-1 div.sk-label.fitted:hover label.sk-toggleable__label.fitted {\n",
       "  color: var(--sklearn-color-text);\n",
       "  background-color: var(--sklearn-color-fitted-level-2);\n",
       "}\n",
       "\n",
       "/* Estimator label */\n",
       "\n",
       "#sk-container-id-1 div.sk-label label {\n",
       "  font-family: monospace;\n",
       "  font-weight: bold;\n",
       "  display: inline-block;\n",
       "  line-height: 1.2em;\n",
       "}\n",
       "\n",
       "#sk-container-id-1 div.sk-label-container {\n",
       "  text-align: center;\n",
       "}\n",
       "\n",
       "/* Estimator-specific */\n",
       "#sk-container-id-1 div.sk-estimator {\n",
       "  font-family: monospace;\n",
       "  border: 1px dotted var(--sklearn-color-border-box);\n",
       "  border-radius: 0.25em;\n",
       "  box-sizing: border-box;\n",
       "  margin-bottom: 0.5em;\n",
       "  /* unfitted */\n",
       "  background-color: var(--sklearn-color-unfitted-level-0);\n",
       "}\n",
       "\n",
       "#sk-container-id-1 div.sk-estimator.fitted {\n",
       "  /* fitted */\n",
       "  background-color: var(--sklearn-color-fitted-level-0);\n",
       "}\n",
       "\n",
       "/* on hover */\n",
       "#sk-container-id-1 div.sk-estimator:hover {\n",
       "  /* unfitted */\n",
       "  background-color: var(--sklearn-color-unfitted-level-2);\n",
       "}\n",
       "\n",
       "#sk-container-id-1 div.sk-estimator.fitted:hover {\n",
       "  /* fitted */\n",
       "  background-color: var(--sklearn-color-fitted-level-2);\n",
       "}\n",
       "\n",
       "/* Specification for estimator info (e.g. \"i\" and \"?\") */\n",
       "\n",
       "/* Common style for \"i\" and \"?\" */\n",
       "\n",
       ".sk-estimator-doc-link,\n",
       "a:link.sk-estimator-doc-link,\n",
       "a:visited.sk-estimator-doc-link {\n",
       "  float: right;\n",
       "  font-size: smaller;\n",
       "  line-height: 1em;\n",
       "  font-family: monospace;\n",
       "  background-color: var(--sklearn-color-background);\n",
       "  border-radius: 1em;\n",
       "  height: 1em;\n",
       "  width: 1em;\n",
       "  text-decoration: none !important;\n",
       "  margin-left: 1ex;\n",
       "  /* unfitted */\n",
       "  border: var(--sklearn-color-unfitted-level-1) 1pt solid;\n",
       "  color: var(--sklearn-color-unfitted-level-1);\n",
       "}\n",
       "\n",
       ".sk-estimator-doc-link.fitted,\n",
       "a:link.sk-estimator-doc-link.fitted,\n",
       "a:visited.sk-estimator-doc-link.fitted {\n",
       "  /* fitted */\n",
       "  border: var(--sklearn-color-fitted-level-1) 1pt solid;\n",
       "  color: var(--sklearn-color-fitted-level-1);\n",
       "}\n",
       "\n",
       "/* On hover */\n",
       "div.sk-estimator:hover .sk-estimator-doc-link:hover,\n",
       ".sk-estimator-doc-link:hover,\n",
       "div.sk-label-container:hover .sk-estimator-doc-link:hover,\n",
       ".sk-estimator-doc-link:hover {\n",
       "  /* unfitted */\n",
       "  background-color: var(--sklearn-color-unfitted-level-3);\n",
       "  color: var(--sklearn-color-background);\n",
       "  text-decoration: none;\n",
       "}\n",
       "\n",
       "div.sk-estimator.fitted:hover .sk-estimator-doc-link.fitted:hover,\n",
       ".sk-estimator-doc-link.fitted:hover,\n",
       "div.sk-label-container:hover .sk-estimator-doc-link.fitted:hover,\n",
       ".sk-estimator-doc-link.fitted:hover {\n",
       "  /* fitted */\n",
       "  background-color: var(--sklearn-color-fitted-level-3);\n",
       "  color: var(--sklearn-color-background);\n",
       "  text-decoration: none;\n",
       "}\n",
       "\n",
       "/* Span, style for the box shown on hovering the info icon */\n",
       ".sk-estimator-doc-link span {\n",
       "  display: none;\n",
       "  z-index: 9999;\n",
       "  position: relative;\n",
       "  font-weight: normal;\n",
       "  right: .2ex;\n",
       "  padding: .5ex;\n",
       "  margin: .5ex;\n",
       "  width: min-content;\n",
       "  min-width: 20ex;\n",
       "  max-width: 50ex;\n",
       "  color: var(--sklearn-color-text);\n",
       "  box-shadow: 2pt 2pt 4pt #999;\n",
       "  /* unfitted */\n",
       "  background: var(--sklearn-color-unfitted-level-0);\n",
       "  border: .5pt solid var(--sklearn-color-unfitted-level-3);\n",
       "}\n",
       "\n",
       ".sk-estimator-doc-link.fitted span {\n",
       "  /* fitted */\n",
       "  background: var(--sklearn-color-fitted-level-0);\n",
       "  border: var(--sklearn-color-fitted-level-3);\n",
       "}\n",
       "\n",
       ".sk-estimator-doc-link:hover span {\n",
       "  display: block;\n",
       "}\n",
       "\n",
       "/* \"?\"-specific style due to the `<a>` HTML tag */\n",
       "\n",
       "#sk-container-id-1 a.estimator_doc_link {\n",
       "  float: right;\n",
       "  font-size: 1rem;\n",
       "  line-height: 1em;\n",
       "  font-family: monospace;\n",
       "  background-color: var(--sklearn-color-background);\n",
       "  border-radius: 1rem;\n",
       "  height: 1rem;\n",
       "  width: 1rem;\n",
       "  text-decoration: none;\n",
       "  /* unfitted */\n",
       "  color: var(--sklearn-color-unfitted-level-1);\n",
       "  border: var(--sklearn-color-unfitted-level-1) 1pt solid;\n",
       "}\n",
       "\n",
       "#sk-container-id-1 a.estimator_doc_link.fitted {\n",
       "  /* fitted */\n",
       "  border: var(--sklearn-color-fitted-level-1) 1pt solid;\n",
       "  color: var(--sklearn-color-fitted-level-1);\n",
       "}\n",
       "\n",
       "/* On hover */\n",
       "#sk-container-id-1 a.estimator_doc_link:hover {\n",
       "  /* unfitted */\n",
       "  background-color: var(--sklearn-color-unfitted-level-3);\n",
       "  color: var(--sklearn-color-background);\n",
       "  text-decoration: none;\n",
       "}\n",
       "\n",
       "#sk-container-id-1 a.estimator_doc_link.fitted:hover {\n",
       "  /* fitted */\n",
       "  background-color: var(--sklearn-color-fitted-level-3);\n",
       "}\n",
       "</style><div id=\"sk-container-id-1\" class=\"sk-top-container\"><div class=\"sk-text-repr-fallback\"><pre>MLPRegressor()</pre><b>In a Jupyter environment, please rerun this cell to show the HTML representation or trust the notebook. <br />On GitHub, the HTML representation is unable to render, please try loading this page with nbviewer.org.</b></div><div class=\"sk-container\" hidden><div class=\"sk-item\"><div class=\"sk-estimator fitted sk-toggleable\"><input class=\"sk-toggleable__control sk-hidden--visually\" id=\"sk-estimator-id-1\" type=\"checkbox\" checked><label for=\"sk-estimator-id-1\" class=\"sk-toggleable__label fitted sk-toggleable__label-arrow fitted\">&nbsp;&nbsp;MLPRegressor<a class=\"sk-estimator-doc-link fitted\" rel=\"noreferrer\" target=\"_blank\" href=\"https://scikit-learn.org/1.4/modules/generated/sklearn.neural_network.MLPRegressor.html\">?<span>Documentation for MLPRegressor</span></a><span class=\"sk-estimator-doc-link fitted\">i<span>Fitted</span></span></label><div class=\"sk-toggleable__content fitted\"><pre>MLPRegressor()</pre></div> </div></div></div></div>"
      ],
      "text/plain": [
       "MLPRegressor()"
      ]
     },
     "execution_count": 26,
     "metadata": {},
     "output_type": "execute_result"
    }
   ],
   "source": [
    "mlp = MLPRegressor()\n",
    "mlp.fit(mpg_X_train, mpg_y_train)"
   ]
  },
  {
   "cell_type": "code",
   "execution_count": 27,
   "id": "3ccfc20b-dbb3-4495-88be-f385991bf185",
   "metadata": {},
   "outputs": [
    {
     "data": {
      "text/plain": [
       "3.684623254170565"
      ]
     },
     "execution_count": 27,
     "metadata": {},
     "output_type": "execute_result"
    }
   ],
   "source": [
    "root_mean_squared_error(mpg_y_test, mlp.predict(mpg_X_test))"
   ]
  },
  {
   "cell_type": "code",
   "execution_count": 28,
   "id": "a75c113b-f394-4fff-b6a5-627bd9413ead",
   "metadata": {},
   "outputs": [],
   "source": [
    "import warnings\n",
    "warnings.filterwarnings('ignore')\n",
    "from time import time\n",
    "i = 0\n",
    "df = pd.DataFrame(columns = ['alpha','max_iter','test_rmse','train_time'])\n",
    "for a in [0.00001,0.0001,0.001,0.01, 0.1, 1, 10]:\n",
    "    for mi in [10,100,200,500,1000,2000]:\n",
    "        for l in [10,20,50,100,200,500,1000]:\n",
    "            st = time()\n",
    "            mlp = MLPRegressor(alpha=a, max_iter=mi, hidden_layer_sizes=(l,))\n",
    "            mlp.fit(mpg_X_train, mpg_y_train)\n",
    "            end = time() - st\n",
    "        \n",
    "            rmse = root_mean_squared_error(mpg_y_test, mlp.predict(mpg_X_test))\n",
    "            df.loc[i] = [a,mi,rmse,end]\n",
    "            i=i+1"
   ]
  },
  {
   "cell_type": "code",
   "execution_count": 29,
   "id": "a66eb2e5-e09e-4bd8-ac67-aa7f14243a38",
   "metadata": {},
   "outputs": [
    {
     "data": {
      "text/html": [
       "<div>\n",
       "<style scoped>\n",
       "    .dataframe tbody tr th:only-of-type {\n",
       "        vertical-align: middle;\n",
       "    }\n",
       "\n",
       "    .dataframe tbody tr th {\n",
       "        vertical-align: top;\n",
       "    }\n",
       "\n",
       "    .dataframe thead th {\n",
       "        text-align: right;\n",
       "    }\n",
       "</style>\n",
       "<table border=\"1\" class=\"dataframe\">\n",
       "  <thead>\n",
       "    <tr style=\"text-align: right;\">\n",
       "      <th></th>\n",
       "      <th>alpha</th>\n",
       "      <th>max_iter</th>\n",
       "      <th>test_rmse</th>\n",
       "      <th>train_time</th>\n",
       "    </tr>\n",
       "  </thead>\n",
       "  <tbody>\n",
       "    <tr>\n",
       "      <th>80</th>\n",
       "      <td>0.00010</td>\n",
       "      <td>2000.0</td>\n",
       "      <td>3.215060</td>\n",
       "      <td>0.664493</td>\n",
       "    </tr>\n",
       "    <tr>\n",
       "      <th>191</th>\n",
       "      <td>0.10000</td>\n",
       "      <td>500.0</td>\n",
       "      <td>3.251294</td>\n",
       "      <td>0.672658</td>\n",
       "    </tr>\n",
       "    <tr>\n",
       "      <th>108</th>\n",
       "      <td>0.00100</td>\n",
       "      <td>500.0</td>\n",
       "      <td>3.252436</td>\n",
       "      <td>0.608567</td>\n",
       "    </tr>\n",
       "    <tr>\n",
       "      <th>114</th>\n",
       "      <td>0.00100</td>\n",
       "      <td>1000.0</td>\n",
       "      <td>3.329298</td>\n",
       "      <td>0.400934</td>\n",
       "    </tr>\n",
       "    <tr>\n",
       "      <th>159</th>\n",
       "      <td>0.01000</td>\n",
       "      <td>1000.0</td>\n",
       "      <td>3.334643</td>\n",
       "      <td>0.745109</td>\n",
       "    </tr>\n",
       "    <tr>\n",
       "      <th>...</th>\n",
       "      <td>...</td>\n",
       "      <td>...</td>\n",
       "      <td>...</td>\n",
       "      <td>...</td>\n",
       "    </tr>\n",
       "    <tr>\n",
       "      <th>210</th>\n",
       "      <td>1.00000</td>\n",
       "      <td>10.0</td>\n",
       "      <td>647.321807</td>\n",
       "      <td>0.007994</td>\n",
       "    </tr>\n",
       "    <tr>\n",
       "      <th>169</th>\n",
       "      <td>0.10000</td>\n",
       "      <td>10.0</td>\n",
       "      <td>699.505531</td>\n",
       "      <td>0.008001</td>\n",
       "    </tr>\n",
       "    <tr>\n",
       "      <th>1</th>\n",
       "      <td>0.00001</td>\n",
       "      <td>10.0</td>\n",
       "      <td>784.989586</td>\n",
       "      <td>0.008019</td>\n",
       "    </tr>\n",
       "    <tr>\n",
       "      <th>7</th>\n",
       "      <td>0.00001</td>\n",
       "      <td>100.0</td>\n",
       "      <td>1070.706551</td>\n",
       "      <td>0.056035</td>\n",
       "    </tr>\n",
       "    <tr>\n",
       "      <th>252</th>\n",
       "      <td>10.00000</td>\n",
       "      <td>10.0</td>\n",
       "      <td>1260.472276</td>\n",
       "      <td>0.008003</td>\n",
       "    </tr>\n",
       "  </tbody>\n",
       "</table>\n",
       "<p>294 rows × 4 columns</p>\n",
       "</div>"
      ],
      "text/plain": [
       "        alpha  max_iter    test_rmse  train_time\n",
       "80    0.00010    2000.0     3.215060    0.664493\n",
       "191   0.10000     500.0     3.251294    0.672658\n",
       "108   0.00100     500.0     3.252436    0.608567\n",
       "114   0.00100    1000.0     3.329298    0.400934\n",
       "159   0.01000    1000.0     3.334643    0.745109\n",
       "..        ...       ...          ...         ...\n",
       "210   1.00000      10.0   647.321807    0.007994\n",
       "169   0.10000      10.0   699.505531    0.008001\n",
       "1     0.00001      10.0   784.989586    0.008019\n",
       "7     0.00001     100.0  1070.706551    0.056035\n",
       "252  10.00000      10.0  1260.472276    0.008003\n",
       "\n",
       "[294 rows x 4 columns]"
      ]
     },
     "execution_count": 29,
     "metadata": {},
     "output_type": "execute_result"
    }
   ],
   "source": [
    "df.sort_values(by = 'test_rmse')"
   ]
  },
  {
   "cell_type": "code",
   "execution_count": 30,
   "id": "e34a3c08-c2c9-4258-b6a7-38001f689a1b",
   "metadata": {},
   "outputs": [
    {
     "name": "stdout",
     "output_type": "stream",
     "text": [
      "Fitting 5 folds for each of 294 candidates, totalling 1470 fits\n",
      "Лучшие параметры: {'alpha': 0.001, 'hidden_layer_sizes': (500,), 'max_iter': 2000}\n",
      "Лучший RMSE: 3.2641124909333152\n",
      "Время выполнения: 103.81544375419617 секунд\n",
      "RMSE на тестовых данных: 3.7211813370982614\n"
     ]
    }
   ],
   "source": [
    "from sklearn.model_selection import GridSearchCV\n",
    "param_grid = {\n",
    "    'alpha': [0.00001, 0.0001, 0.001, 0.01, 0.1, 1, 10],\n",
    "    'max_iter': [10, 100, 200, 500, 1000, 2000],\n",
    "    'hidden_layer_sizes': [(10,), (20,), (50,), (100,), (200,), (500,), (1000,)]\n",
    "}\n",
    "\n",
    "\n",
    "\n",
    "# Создание модели\n",
    "mlp = MLPRegressor()\n",
    "\n",
    "# Настройка Grid Search\n",
    "grid_search = GridSearchCV(estimator=mlp, param_grid=param_grid, scoring='neg_root_mean_squared_error', cv=5, n_jobs=-1, verbose=2)\n",
    "\n",
    "# Время начала поиска\n",
    "start_time = time()\n",
    "\n",
    "# Выполнение Grid Search\n",
    "grid_search.fit(mpg_X_train, mpg_y_train)\n",
    "\n",
    "# Время окончания поиска\n",
    "end_time = time() - start_time\n",
    "\n",
    "# Получение результатов\n",
    "best_params = grid_search.best_params_\n",
    "best_score = grid_search.best_score_\n",
    "\n",
    "# Создание DataFrame с результатами\n",
    "results = pd.DataFrame(grid_search.cv_results_)\n",
    "\n",
    "print(f\"Лучшие параметры: {best_params}\")\n",
    "print(f\"Лучший RMSE: {-best_score}\")\n",
    "print(f\"Время выполнения: {end_time} секунд\")\n",
    "\n",
    "# Предсказание и оценка на тестовых данных\n",
    "best_model = grid_search.best_estimator_\n",
    "test_rmse = root_mean_squared_error(mpg_y_test, best_model.predict(mpg_X_test))\n",
    "\n",
    "print(f\"RMSE на тестовых данных: {test_rmse}\")"
   ]
  },
  {
   "cell_type": "markdown",
   "id": "13a2c39a-91ea-411b-814a-e4bc8b22dd7a",
   "metadata": {},
   "source": [
    "### МГУА "
   ]
  },
  {
   "cell_type": "code",
   "execution_count": 31,
   "id": "d284ea00-7aa0-4f36-9de0-ea53ee059240",
   "metadata": {},
   "outputs": [
    {
     "name": "stdout",
     "output_type": "stream",
     "text": [
      "<gmdh.gmdh.Ria object at 0x000001E5F466DBD0>\n",
      "RMSE=3.0558788306195948\n"
     ]
    }
   ],
   "source": [
    "from gmdh import Combi, Multi, Mia, Ria\n",
    "from sklearn.preprocessing import StandardScaler\n",
    "# Стандартизация данных\n",
    "scaler = StandardScaler()\n",
    "X_train = scaler.fit_transform(mpg_X_train)\n",
    "X_test = scaler.transform(mpg_X_test)\n",
    "# Преобразование данных в тензоры NumPy\n",
    "mpg_X_train = np.array(X_train)\n",
    "mpg_y_train = np.array(mpg_y_train)\n",
    "mpg_X_test = np.array(X_test)\n",
    "mpg_y_test = np.array(mpg_y_test)\n",
    "\n",
    "model = Ria()\n",
    "model.fit(mpg_X_train, mpg_y_train)\n",
    "y_pred = model.predict(mpg_X_test)\n",
    "result = root_mean_squared_error(mpg_y_test, y_pred)\n",
    "print(model)\n",
    "print('RMSE={}'.format(result))"
   ]
  },
  {
   "cell_type": "code",
   "execution_count": 32,
   "id": "89684866-d189-42a3-ad18-4efe20adf247",
   "metadata": {},
   "outputs": [],
   "source": [
    "def print_metrics(y_test, y_pred, squared=False):\n",
    "    print(f\"R^2: {r2_score(y_test, y_pred)}\")\n",
    "    crit_name = \"MSE\" if squared else \"RMSE\"\n",
    "    print(f\"{crit_name}: {mean_squared_error(y_test, y_pred, squared=squared)}\")\n",
    "    print(f\"MAE: {mean_absolute_error(y_test, y_pred)}\")\n"
   ]
  },
  {
   "cell_type": "code",
   "execution_count": 33,
   "id": "dc2561a2-95c1-4cea-9b42-f8b01fa85136",
   "metadata": {},
   "outputs": [
    {
     "name": "stdout",
     "output_type": "stream",
     "text": [
      "LEVEL 1  [=========================] 100% [00m:00s] (21 combinations) error=2611.884785                                                                                                \n",
      "LEVEL 2  [=========================] 100% [00m:00s] (7 combinations) error=2321.174477                                                                                                 \n",
      "LEVEL 3  [=========================] 100% [00m:00s] (7 combinations) error=2291.852059                                                                                                 \n",
      "LEVEL 4  [=========================] 100% [00m:00s] (7 combinations) error=2266.391443                                                                                                 \n",
      "LEVEL 5  [=========================] 100% [00m:00s] (7 combinations) error=2238.806791                                                                                                 \n",
      "LEVEL 6  [=========================] 100% [00m:00s] (7 combinations) error=2197.496964                                                                                                 \n",
      "LEVEL 7  [=========================] 100% [00m:00s] (7 combinations) error=2166.921487                                                                                                 \n",
      "LEVEL 8  [=========================] 100% [00m:00s] (7 combinations) error=2158.990223                                                                                                 \n",
      "LEVEL 9  [=========================] 100% [00m:00s] (7 combinations) error=2152.719748                                                                                                 \n",
      "LEVEL 10 [=========================] 100% [00m:00s] (7 combinations) error=2151.236878                                                                                                 \n",
      "LEVEL 11 [=========================] 100% [00m:00s] (7 combinations) error=2151.348313                                                                                                 \n",
      "R^2: 0.8713245652490978\n",
      "RMSE: 2.986649277888555\n",
      "MAE: 2.04648792970369\n"
     ]
    },
    {
     "name": "stderr",
     "output_type": "stream",
     "text": [
      "C:\\Python311\\Lib\\site-packages\\sklearn\\metrics\\_regression.py:483: FutureWarning: 'squared' is deprecated in version 1.4 and will be removed in 1.6. To calculate the root mean squared error, use the function'root_mean_squared_error'.\n",
      "  warnings.warn(\n"
     ]
    }
   ],
   "source": [
    "from gmdh import CriterionType\n",
    "from gmdh import Criterion \n",
    "from gmdh import Solver, PolynomialType\n",
    "mpg_ria_model = Ria()\n",
    "mpg_ria_model.fit(mpg_X_train, mpg_y_train, verbose=1, n_jobs=-1, test_size=0.53, limit=0, k_best=1, \n",
    "                  criterion = Criterion(criterion_type=CriterionType.STABILITY, solver = Solver.ACCURATE), p_average = 3)\n",
    "mpg_y_pred_ria = mpg_ria_model.predict(mpg_X_test)\n",
    "print_metrics(mpg_y_test, mpg_y_pred_ria)"
   ]
  },
  {
   "cell_type": "code",
   "execution_count": 34,
   "id": "ea77fee7-dcb6-43ac-8e06-0b737bbf11d9",
   "metadata": {},
   "outputs": [
    {
     "name": "stdout",
     "output_type": "stream",
     "text": [
      "LEVEL 1  [=========================] 100% [00m:00s] (21 combinations) error=5209.485939                                                                                                \n",
      "LEVEL 2  [=========================] 100% [00m:00s] (7 combinations) error=4643.248172                                                                                                 \n",
      "LEVEL 3  [=========================] 100% [00m:00s] (7 combinations) error=4590.687159                                                                                                 \n",
      "LEVEL 4  [=========================] 100% [00m:00s] (7 combinations) error=4556.00767                                                                                                  \n",
      "LEVEL 5  [=========================] 100% [00m:00s] (7 combinations) error=4508.576793                                                                                                 \n",
      "LEVEL 6  [=========================] 100% [00m:00s] (7 combinations) error=4421.003715                                                                                                 \n",
      "LEVEL 7  [=========================] 100% [00m:00s] (7 combinations) error=4367.013938                                                                                                 \n",
      "LEVEL 8  [=========================] 100% [00m:00s] (7 combinations) error=4339.505272                                                                                                 \n",
      "LEVEL 9  [=========================] 100% [00m:00s] (7 combinations) error=4331.713184                                                                                                 \n",
      "LEVEL 10 [=========================] 100% [00m:00s] (7 combinations) error=4330.937627                                                                                                 \n",
      "LEVEL 11 [=========================] 100% [00m:00s] (7 combinations) error=4331.288816                                                                                                 \n",
      "R^2: 0.8725742694435112\n",
      "RMSE: 2.972110625621637\n",
      "MAE: 2.0440419499147313\n"
     ]
    },
    {
     "name": "stderr",
     "output_type": "stream",
     "text": [
      "C:\\Python311\\Lib\\site-packages\\sklearn\\metrics\\_regression.py:483: FutureWarning: 'squared' is deprecated in version 1.4 and will be removed in 1.6. To calculate the root mean squared error, use the function'root_mean_squared_error'.\n",
      "  warnings.warn(\n"
     ]
    }
   ],
   "source": [
    "from gmdh import SequentialCriterion  \n",
    "mpg_ria_model = Ria()\n",
    "mpg_ria_model.fit(mpg_X_train, mpg_y_train, verbose=1, n_jobs=-1, test_size=0.52, limit=0, k_best=1, \n",
    "                  criterion = SequentialCriterion(criterion_type=CriterionType.SYM_REGULARITY, \n",
    "                                    second_criterion_type=CriterionType.SYM_STABILITY, solver=Solver.ACCURATE))\n",
    "mpg_y_pred_ria = mpg_ria_model.predict(mpg_X_test)\n",
    "print_metrics(mpg_y_test, mpg_y_pred_ria)"
   ]
  },
  {
   "cell_type": "code",
   "execution_count": null,
   "id": "f29a83f8-23f9-43eb-8a7e-6a07d35f5ee0",
   "metadata": {},
   "outputs": [],
   "source": []
  }
 ],
 "metadata": {
  "kernelspec": {
   "display_name": "Python 3 (ipykernel)",
   "language": "python",
   "name": "python3"
  },
  "language_info": {
   "codemirror_mode": {
    "name": "ipython",
    "version": 3
   },
   "file_extension": ".py",
   "mimetype": "text/x-python",
   "name": "python",
   "nbconvert_exporter": "python",
   "pygments_lexer": "ipython3",
   "version": "3.11.0"
  }
 },
 "nbformat": 4,
 "nbformat_minor": 5
}
