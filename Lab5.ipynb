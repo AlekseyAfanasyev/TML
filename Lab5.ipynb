{
 "cells": [
  {
   "cell_type": "markdown",
   "id": "d08cbca8-9133-4244-8def-d2aaecb3c49c",
   "metadata": {},
   "source": [
    "# Ансамбли моделей машинного  обучения"
   ]
  },
  {
   "cell_type": "code",
   "execution_count": 70,
   "id": "b12bdebc-ecff-40b3-ab12-94995705efd5",
   "metadata": {},
   "outputs": [],
   "source": [
    "import numpy as np\n",
    "import pandas as pd\n",
    "from typing import Dict, Tuple\n",
    "from scipy import stats\n",
    "from scipy.optimize import fmin_tnc\n",
    "from IPython.display import Image\n",
    "from sklearn.model_selection import train_test_split\n",
    "from sklearn.neighbors import KNeighborsRegressor, KNeighborsClassifier\n",
    "from sklearn.metrics import accuracy_score, balanced_accuracy_score\n",
    "from sklearn.metrics import precision_score, recall_score, f1_score, classification_report\n",
    "from sklearn.metrics import confusion_matrix\n",
    "from sklearn.metrics import mean_absolute_error, mean_squared_error, mean_squared_log_error, median_absolute_error, r2_score, root_mean_squared_error \n",
    "from sklearn.metrics import roc_curve, roc_auc_score\n",
    "from sklearn.linear_model import LinearRegression\n",
    "from sklearn.linear_model import SGDRegressor\n",
    "from sklearn.linear_model import SGDClassifier\n",
    "from sklearn import linear_model\n",
    "from sklearn.ensemble import BaggingRegressor\n",
    "from sklearn.ensemble import RandomForestRegressor\n",
    "from sklearn.ensemble import ExtraTreesRegressor\n",
    "from sklearn.ensemble import AdaBoostRegressor\n",
    "from sklearn.ensemble import GradientBoostingRegressor\n",
    "import xgboost as xgb\n",
    "import seaborn as sns\n",
    "import matplotlib.pyplot as plt\n",
    "%matplotlib inline \n",
    "sns.set(style=\"ticks\")"
   ]
  },
  {
   "cell_type": "code",
   "execution_count": 6,
   "id": "16523a32-36d6-421e-8dcf-87a94f1a6491",
   "metadata": {},
   "outputs": [],
   "source": [
    "mpg = pd.read_csv('C:\\\\MGTU\\\\6 semestr\\\\TMO\\\\auto-mpg.csv')"
   ]
  },
  {
   "cell_type": "code",
   "execution_count": 7,
   "id": "1191a209-bfa9-4cba-b7c2-0809ada33fbf",
   "metadata": {},
   "outputs": [
    {
     "data": {
      "text/html": [
       "<div>\n",
       "<style scoped>\n",
       "    .dataframe tbody tr th:only-of-type {\n",
       "        vertical-align: middle;\n",
       "    }\n",
       "\n",
       "    .dataframe tbody tr th {\n",
       "        vertical-align: top;\n",
       "    }\n",
       "\n",
       "    .dataframe thead th {\n",
       "        text-align: right;\n",
       "    }\n",
       "</style>\n",
       "<table border=\"1\" class=\"dataframe\">\n",
       "  <thead>\n",
       "    <tr style=\"text-align: right;\">\n",
       "      <th></th>\n",
       "      <th>mpg</th>\n",
       "      <th>cylinders</th>\n",
       "      <th>displacement</th>\n",
       "      <th>horsepower</th>\n",
       "      <th>weight</th>\n",
       "      <th>acceleration</th>\n",
       "      <th>model year</th>\n",
       "      <th>origin</th>\n",
       "      <th>car name</th>\n",
       "    </tr>\n",
       "  </thead>\n",
       "  <tbody>\n",
       "    <tr>\n",
       "      <th>0</th>\n",
       "      <td>18.0</td>\n",
       "      <td>8</td>\n",
       "      <td>307.0</td>\n",
       "      <td>130</td>\n",
       "      <td>3504</td>\n",
       "      <td>12.0</td>\n",
       "      <td>70</td>\n",
       "      <td>1</td>\n",
       "      <td>chevrolet chevelle malibu</td>\n",
       "    </tr>\n",
       "    <tr>\n",
       "      <th>1</th>\n",
       "      <td>15.0</td>\n",
       "      <td>8</td>\n",
       "      <td>350.0</td>\n",
       "      <td>165</td>\n",
       "      <td>3693</td>\n",
       "      <td>11.5</td>\n",
       "      <td>70</td>\n",
       "      <td>1</td>\n",
       "      <td>buick skylark 320</td>\n",
       "    </tr>\n",
       "    <tr>\n",
       "      <th>2</th>\n",
       "      <td>18.0</td>\n",
       "      <td>8</td>\n",
       "      <td>318.0</td>\n",
       "      <td>150</td>\n",
       "      <td>3436</td>\n",
       "      <td>11.0</td>\n",
       "      <td>70</td>\n",
       "      <td>1</td>\n",
       "      <td>plymouth satellite</td>\n",
       "    </tr>\n",
       "    <tr>\n",
       "      <th>3</th>\n",
       "      <td>16.0</td>\n",
       "      <td>8</td>\n",
       "      <td>304.0</td>\n",
       "      <td>150</td>\n",
       "      <td>3433</td>\n",
       "      <td>12.0</td>\n",
       "      <td>70</td>\n",
       "      <td>1</td>\n",
       "      <td>amc rebel sst</td>\n",
       "    </tr>\n",
       "    <tr>\n",
       "      <th>4</th>\n",
       "      <td>17.0</td>\n",
       "      <td>8</td>\n",
       "      <td>302.0</td>\n",
       "      <td>140</td>\n",
       "      <td>3449</td>\n",
       "      <td>10.5</td>\n",
       "      <td>70</td>\n",
       "      <td>1</td>\n",
       "      <td>ford torino</td>\n",
       "    </tr>\n",
       "  </tbody>\n",
       "</table>\n",
       "</div>"
      ],
      "text/plain": [
       "    mpg  cylinders  displacement horsepower  weight  acceleration  model year  \\\n",
       "0  18.0          8         307.0        130    3504          12.0          70   \n",
       "1  15.0          8         350.0        165    3693          11.5          70   \n",
       "2  18.0          8         318.0        150    3436          11.0          70   \n",
       "3  16.0          8         304.0        150    3433          12.0          70   \n",
       "4  17.0          8         302.0        140    3449          10.5          70   \n",
       "\n",
       "   origin                   car name  \n",
       "0       1  chevrolet chevelle malibu  \n",
       "1       1          buick skylark 320  \n",
       "2       1         plymouth satellite  \n",
       "3       1              amc rebel sst  \n",
       "4       1                ford torino  "
      ]
     },
     "execution_count": 7,
     "metadata": {},
     "output_type": "execute_result"
    }
   ],
   "source": [
    "mpg.head()"
   ]
  },
  {
   "cell_type": "code",
   "execution_count": 8,
   "id": "aba60059-1fbb-40eb-9bcf-a2b76557eb75",
   "metadata": {},
   "outputs": [
    {
     "data": {
      "text/plain": [
       "mpg             float64\n",
       "cylinders         int64\n",
       "displacement    float64\n",
       "horsepower       object\n",
       "weight            int64\n",
       "acceleration    float64\n",
       "model year        int64\n",
       "origin            int64\n",
       "car name         object\n",
       "dtype: object"
      ]
     },
     "execution_count": 8,
     "metadata": {},
     "output_type": "execute_result"
    }
   ],
   "source": [
    "mpg.dtypes"
   ]
  },
  {
   "cell_type": "code",
   "execution_count": 9,
   "id": "69878acf-7f82-4362-9926-456cce6b021d",
   "metadata": {},
   "outputs": [],
   "source": [
    "mpg = mpg[mpg['horsepower'] != '?']\n",
    "mpg['horsepower'] = mpg['horsepower'].astype(float)"
   ]
  },
  {
   "cell_type": "code",
   "execution_count": 10,
   "id": "b0e3a772-44a8-47e7-ab1f-7babfcf19ed6",
   "metadata": {},
   "outputs": [
    {
     "data": {
      "text/plain": [
       "mpg             float64\n",
       "cylinders         int64\n",
       "displacement    float64\n",
       "horsepower      float64\n",
       "weight            int64\n",
       "acceleration    float64\n",
       "model year        int64\n",
       "origin            int64\n",
       "car name         object\n",
       "dtype: object"
      ]
     },
     "execution_count": 10,
     "metadata": {},
     "output_type": "execute_result"
    }
   ],
   "source": [
    "mpg.dtypes"
   ]
  },
  {
   "cell_type": "code",
   "execution_count": 11,
   "id": "bd4da7d8-a9be-4309-abde-71a6d01b6064",
   "metadata": {},
   "outputs": [],
   "source": [
    "mpg = mpg.drop(columns=['car name'])"
   ]
  },
  {
   "cell_type": "code",
   "execution_count": 12,
   "id": "7235d5b1-74cf-4855-a3c9-ffed62f48172",
   "metadata": {},
   "outputs": [],
   "source": [
    "X = mpg.drop(columns=['mpg'])  # Признаки\n",
    "y = mpg['mpg']  # Целевая переменная\n",
    "\n",
    "# Разделение данных на обучающую и тестовую выборки\n",
    "mpg_X_train, mpg_X_test, mpg_y_train, mpg_y_test = train_test_split(X, y, test_size=0.2, random_state=1)"
   ]
  },
  {
   "cell_type": "markdown",
   "id": "4d3494c6-e833-4489-a5d9-919d229301ce",
   "metadata": {},
   "source": [
    "### Bagging"
   ]
  },
  {
   "cell_type": "code",
   "execution_count": 53,
   "id": "e639d242-7204-4847-9a31-c9cc3478353e",
   "metadata": {},
   "outputs": [],
   "source": [
    "br_mpg = BaggingRegressor(n_estimators=1000, oob_score = False, random_state=10)\n",
    "br_mpg.fit(mpg_X_train,mpg_y_train )\n",
    "br_mpg_predict =  br_mpg.predict(mpg_X_test)"
   ]
  },
  {
   "cell_type": "code",
   "execution_count": 54,
   "id": "87981272-6cec-45e5-91ee-fa87e0a061ff",
   "metadata": {},
   "outputs": [
    {
     "data": {
      "text/plain": [
       "3.1432575417344863"
      ]
     },
     "execution_count": 54,
     "metadata": {},
     "output_type": "execute_result"
    }
   ],
   "source": [
    "root_mean_squared_error(mpg_y_test, br_mpg_predict)"
   ]
  },
  {
   "cell_type": "markdown",
   "id": "184a99fc-1407-4615-ab16-136d3e602f10",
   "metadata": {},
   "source": [
    "### Random Forest"
   ]
  },
  {
   "cell_type": "code",
   "execution_count": 55,
   "id": "a1f6f41c-9b3c-444f-bed8-bb24603c5430",
   "metadata": {},
   "outputs": [],
   "source": [
    "rfr_mpg = RandomForestRegressor(n_estimators=1000, oob_score = True, random_state=10)\n",
    "rfr_mpg.fit(mpg_X_train,mpg_y_train )\n",
    "rfr_mpg_predict =  rfr_mpg.predict(mpg_X_test)"
   ]
  },
  {
   "cell_type": "code",
   "execution_count": 56,
   "id": "e53452cb-672c-4e05-8e85-460e98415836",
   "metadata": {},
   "outputs": [
    {
     "data": {
      "text/plain": [
       "3.151838599486819"
      ]
     },
     "execution_count": 56,
     "metadata": {},
     "output_type": "execute_result"
    }
   ],
   "source": [
    "root_mean_squared_error(mpg_y_test, rfr_mpg_predict)"
   ]
  },
  {
   "cell_type": "code",
   "execution_count": 89,
   "id": "5d682941-bb16-4bb0-b039-ced1cf173873",
   "metadata": {},
   "outputs": [],
   "source": [
    "rfr_mpg1 = RandomForestRegressor(n_estimators=1000, oob_score = True, max_features = 2 , min_samples_leaf = 5, random_state=10)\n",
    "rfr_mpg1.fit(mpg_X_train,mpg_y_train )\n",
    "rfr_mpg_predict1 =  rfr_mpg1.predict(mpg_X_test)"
   ]
  },
  {
   "cell_type": "code",
   "execution_count": 90,
   "id": "8be00ca1-48c1-4224-8e3b-e3316a5f70cf",
   "metadata": {},
   "outputs": [
    {
     "data": {
      "text/plain": [
       "3.55224352114633"
      ]
     },
     "execution_count": 90,
     "metadata": {},
     "output_type": "execute_result"
    }
   ],
   "source": [
    "root_mean_squared_error(mpg_y_test, rfr_mpg_predict1)"
   ]
  },
  {
   "cell_type": "markdown",
   "id": "aa5212d2-23bc-4ed6-87b0-1ba18bb34d2a",
   "metadata": {},
   "source": [
    "### Extremely Randomized Trees"
   ]
  },
  {
   "cell_type": "code",
   "execution_count": 59,
   "id": "89566259-2b98-40ae-9d5b-33787db0f519",
   "metadata": {},
   "outputs": [],
   "source": [
    "etr_mpg = ExtraTreesRegressor(n_estimators=1000, random_state=10)\n",
    "etr_mpg.fit(mpg_X_train,mpg_y_train )\n",
    "etr_mpg_predict =  etr_mpg.predict(mpg_X_test)"
   ]
  },
  {
   "cell_type": "code",
   "execution_count": 60,
   "id": "9f8a28c4-69cb-433e-80d3-9f046ec03223",
   "metadata": {},
   "outputs": [
    {
     "data": {
      "text/plain": [
       "3.312486072538161"
      ]
     },
     "execution_count": 60,
     "metadata": {},
     "output_type": "execute_result"
    }
   ],
   "source": [
    "root_mean_squared_error(mpg_y_test, etr_mpg_predict)"
   ]
  },
  {
   "cell_type": "markdown",
   "id": "af6dd3c4-b83c-4442-a94f-a12352df5c75",
   "metadata": {},
   "source": [
    "### AdaBoost"
   ]
  },
  {
   "cell_type": "code",
   "execution_count": 64,
   "id": "95327ae0-2e09-40b8-8632-eb15b1a52c11",
   "metadata": {},
   "outputs": [],
   "source": [
    "abr_mpg = AdaBoostRegressor(n_estimators=1000, random_state=10)\n",
    "abr_mpg.fit(mpg_X_train,mpg_y_train )\n",
    "abr_mpg_predict =  abr_mpg.predict(mpg_X_test)"
   ]
  },
  {
   "cell_type": "code",
   "execution_count": 65,
   "id": "4287c2c0-5544-49d6-a38b-20cbdad62add",
   "metadata": {},
   "outputs": [
    {
     "data": {
      "text/plain": [
       "3.620154134360523"
      ]
     },
     "execution_count": 65,
     "metadata": {},
     "output_type": "execute_result"
    }
   ],
   "source": [
    "root_mean_squared_error(mpg_y_test, abr_mpg_predict)"
   ]
  },
  {
   "cell_type": "markdown",
   "id": "6684ea98-7dc7-45fa-9784-8c3b77243643",
   "metadata": {},
   "source": [
    "### GradientBoosting "
   ]
  },
  {
   "cell_type": "code",
   "execution_count": 67,
   "id": "7fb22718-5216-434c-b3ec-54733e98726e",
   "metadata": {},
   "outputs": [],
   "source": [
    "gbr_mpg = GradientBoostingRegressor(n_estimators=1000, random_state=10)\n",
    "gbr_mpg.fit(mpg_X_train,mpg_y_train )\n",
    "gbr_mpg_predict =  gbr_mpg.predict(mpg_X_test)"
   ]
  },
  {
   "cell_type": "code",
   "execution_count": 68,
   "id": "3a5c9dc0-ff1d-4b59-9c74-3cbeadaad2b0",
   "metadata": {},
   "outputs": [
    {
     "data": {
      "text/plain": [
       "3.1436494559859263"
      ]
     },
     "execution_count": 68,
     "metadata": {},
     "output_type": "execute_result"
    }
   ],
   "source": [
    "root_mean_squared_error(mpg_y_test, gbr_mpg_predict)"
   ]
  },
  {
   "cell_type": "markdown",
   "id": "610fc64b-9734-471b-9c43-900e93e096dd",
   "metadata": {},
   "source": [
    "### XGBoost "
   ]
  },
  {
   "cell_type": "code",
   "execution_count": 77,
   "id": "4f48a3ba-af28-4dcb-937a-8bca30432aff",
   "metadata": {},
   "outputs": [],
   "source": [
    "dtrain = xgb.DMatrix(mpg_X_train, label=mpg_y_train)\n",
    "dtest = xgb.DMatrix(mpg_X_test, label=mpg_y_test)\n",
    "\n",
    "params = {\n",
    "    'objective': 'reg:squarederror', # функция потерь для задачи регрессии\n",
    "    'eval_metric': 'rmse'\n",
    "}\n",
    "\n",
    "num_rounds = 1000\n",
    "model = xgb.train(params, dtrain, num_rounds)\n",
    "\n",
    "y_pred = model.predict(dtest)"
   ]
  },
  {
   "cell_type": "code",
   "execution_count": 78,
   "id": "5ca67ff9-a682-488f-adda-da58ce625b80",
   "metadata": {},
   "outputs": [
    {
     "data": {
      "text/plain": [
       "3.2797096825132277"
      ]
     },
     "execution_count": 78,
     "metadata": {},
     "output_type": "execute_result"
    }
   ],
   "source": [
    "root_mean_squared_error(mpg_y_test, y_pred)"
   ]
  }
 ],
 "metadata": {
  "kernelspec": {
   "display_name": "Python 3 (ipykernel)",
   "language": "python",
   "name": "python3"
  },
  "language_info": {
   "codemirror_mode": {
    "name": "ipython",
    "version": 3
   },
   "file_extension": ".py",
   "mimetype": "text/x-python",
   "name": "python",
   "nbconvert_exporter": "python",
   "pygments_lexer": "ipython3",
   "version": "3.11.0"
  }
 },
 "nbformat": 4,
 "nbformat_minor": 5
}
